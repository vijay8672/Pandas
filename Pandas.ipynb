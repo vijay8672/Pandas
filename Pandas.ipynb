{
  "nbformat": 4,
  "nbformat_minor": 0,
  "metadata": {
    "colab": {
      "name": "Pandas.ipynb",
      "provenance": [],
      "collapsed_sections": []
    },
    "kernelspec": {
      "name": "python3",
      "display_name": "Python 3"
    },
    "language_info": {
      "name": "python"
    }
  },
  "cells": [
    {
      "cell_type": "markdown",
      "metadata": {
        "id": "VAWJQJkL28k4"
      },
      "source": [
        "## Pandas"
      ]
    },
    {
      "cell_type": "code",
      "metadata": {
        "id": "6XcOlIitmhwt"
      },
      "source": [
        "import pandas as pd\n",
        "import numpy as np"
      ],
      "execution_count": null,
      "outputs": []
    },
    {
      "cell_type": "code",
      "metadata": {
        "colab": {
          "base_uri": "https://localhost:8080/"
        },
        "id": "pMB2XSMj3AdZ",
        "outputId": "cbce6cc2-d993-485e-a4cb-fee09e99e49c"
      },
      "source": [
        "s = pd.Series([1,2,3,np.nan, 4,5])\n",
        "s"
      ],
      "execution_count": null,
      "outputs": [
        {
          "output_type": "execute_result",
          "data": {
            "text/plain": [
              "0    1.0\n",
              "1    2.0\n",
              "2    3.0\n",
              "3    NaN\n",
              "4    4.0\n",
              "5    5.0\n",
              "dtype: float64"
            ]
          },
          "metadata": {},
          "execution_count": 354
        }
      ]
    },
    {
      "cell_type": "code",
      "metadata": {
        "colab": {
          "base_uri": "https://localhost:8080/"
        },
        "id": "Zei2gwNm3fxa",
        "outputId": "cad0d5cf-1a31-4870-fe2f-a17d9ea1b416"
      },
      "source": [
        "dates = pd.date_range('20130101', periods=6)\n",
        "dates"
      ],
      "execution_count": null,
      "outputs": [
        {
          "output_type": "execute_result",
          "data": {
            "text/plain": [
              "DatetimeIndex(['2013-01-01', '2013-01-02', '2013-01-03', '2013-01-04',\n",
              "               '2013-01-05', '2013-01-06'],\n",
              "              dtype='datetime64[ns]', freq='D')"
            ]
          },
          "metadata": {},
          "execution_count": 355
        }
      ]
    },
    {
      "cell_type": "code",
      "metadata": {
        "colab": {
          "base_uri": "https://localhost:8080/"
        },
        "id": "AK4QeS6r3B3I",
        "outputId": "1c2457ea-e087-489b-c992-55fea8a2422f"
      },
      "source": [
        "data = ['w','x','y','j']\n",
        "data"
      ],
      "execution_count": null,
      "outputs": [
        {
          "output_type": "execute_result",
          "data": {
            "text/plain": [
              "['w', 'x', 'y', 'j']"
            ]
          },
          "metadata": {},
          "execution_count": 356
        }
      ]
    },
    {
      "cell_type": "code",
      "metadata": {
        "colab": {
          "base_uri": "https://localhost:8080/"
        },
        "id": "BjCBHVg93B6_",
        "outputId": "d37b6f5b-db17-4b06-f36a-a30e3be990a1"
      },
      "source": [
        "list = [10,20,30,40]\n",
        "list"
      ],
      "execution_count": null,
      "outputs": [
        {
          "output_type": "execute_result",
          "data": {
            "text/plain": [
              "[10, 20, 30, 40]"
            ]
          },
          "metadata": {},
          "execution_count": 357
        }
      ]
    },
    {
      "cell_type": "code",
      "metadata": {
        "colab": {
          "base_uri": "https://localhost:8080/"
        },
        "id": "Hx_OJxj03CJJ",
        "outputId": "b2481d4a-9593-4617-8529-ab556cd3ce8b"
      },
      "source": [
        "arr = np.array([12,23,25,55])\n",
        "arr"
      ],
      "execution_count": null,
      "outputs": [
        {
          "output_type": "execute_result",
          "data": {
            "text/plain": [
              "array([12, 23, 25, 55])"
            ]
          },
          "metadata": {},
          "execution_count": 358
        }
      ]
    },
    {
      "cell_type": "code",
      "metadata": {
        "colab": {
          "base_uri": "https://localhost:8080/"
        },
        "id": "kCU-zIrX3CPD",
        "outputId": "b1909f1c-e84e-4efe-e7d2-badb7be29728"
      },
      "source": [
        "arr.mean()"
      ],
      "execution_count": null,
      "outputs": [
        {
          "output_type": "execute_result",
          "data": {
            "text/plain": [
              "28.75"
            ]
          },
          "metadata": {},
          "execution_count": 359
        }
      ]
    },
    {
      "cell_type": "code",
      "metadata": {
        "colab": {
          "base_uri": "https://localhost:8080/"
        },
        "id": "AmIEVsZz3CSI",
        "outputId": "579bcecd-47ef-4268-b35f-968798cc2c9f"
      },
      "source": [
        "dictionary = {'e':12, 'h':65,'j':75}\n",
        "dictionary"
      ],
      "execution_count": null,
      "outputs": [
        {
          "output_type": "execute_result",
          "data": {
            "text/plain": [
              "{'e': 12, 'h': 65, 'j': 75}"
            ]
          },
          "metadata": {},
          "execution_count": 360
        }
      ]
    },
    {
      "cell_type": "code",
      "metadata": {
        "colab": {
          "base_uri": "https://localhost:8080/"
        },
        "id": "sGiIyrpb3Ciq",
        "outputId": "d6d0e9a9-2a31-4e7a-d89f-4a680cb11585"
      },
      "source": [
        "pd.Series(data = arr)"
      ],
      "execution_count": null,
      "outputs": [
        {
          "output_type": "execute_result",
          "data": {
            "text/plain": [
              "0    12\n",
              "1    23\n",
              "2    25\n",
              "3    55\n",
              "dtype: int64"
            ]
          },
          "metadata": {},
          "execution_count": 361
        }
      ]
    },
    {
      "cell_type": "code",
      "metadata": {
        "colab": {
          "base_uri": "https://localhost:8080/"
        },
        "id": "VIL-oTqU3C5q",
        "outputId": "2e6f120a-55b0-4ab1-ea99-3aad7e0b7b88"
      },
      "source": [
        "pd.Series(data = arr, index=data)"
      ],
      "execution_count": null,
      "outputs": [
        {
          "output_type": "execute_result",
          "data": {
            "text/plain": [
              "w    12\n",
              "x    23\n",
              "y    25\n",
              "j    55\n",
              "dtype: int64"
            ]
          },
          "metadata": {},
          "execution_count": 362
        }
      ]
    },
    {
      "cell_type": "code",
      "metadata": {
        "colab": {
          "base_uri": "https://localhost:8080/"
        },
        "id": "wmPAPNXQ3C8s",
        "outputId": "409c10fd-b4ac-462e-c556-9e03384e05d9"
      },
      "source": [
        "pd.Series(dictionary)"
      ],
      "execution_count": null,
      "outputs": [
        {
          "output_type": "execute_result",
          "data": {
            "text/plain": [
              "e    12\n",
              "h    65\n",
              "j    75\n",
              "dtype: int64"
            ]
          },
          "metadata": {},
          "execution_count": 363
        }
      ]
    },
    {
      "cell_type": "code",
      "metadata": {
        "id": "4V8CDHBJ3DQo"
      },
      "source": [
        "from numpy.random import randn"
      ],
      "execution_count": null,
      "outputs": []
    },
    {
      "cell_type": "code",
      "metadata": {
        "colab": {
          "base_uri": "https://localhost:8080/",
          "height": 363
        },
        "id": "CP5a39UV3D0h",
        "outputId": "b8fe1bb5-1221-4ad4-ad85-b2c134eb0714"
      },
      "source": [
        "np.random.seed(100)                                                        # Split() function is used to split the string into list of values\n",
        "df = pd.DataFrame(randn(10,5), index= 'A B C D E F G H I J'.split(),columns = 'Score1 Score2 Score3 Score4 Score5'.split())\n",
        "df"
      ],
      "execution_count": null,
      "outputs": [
        {
          "output_type": "execute_result",
          "data": {
            "text/html": [
              "<div>\n",
              "<style scoped>\n",
              "    .dataframe tbody tr th:only-of-type {\n",
              "        vertical-align: middle;\n",
              "    }\n",
              "\n",
              "    .dataframe tbody tr th {\n",
              "        vertical-align: top;\n",
              "    }\n",
              "\n",
              "    .dataframe thead th {\n",
              "        text-align: right;\n",
              "    }\n",
              "</style>\n",
              "<table border=\"1\" class=\"dataframe\">\n",
              "  <thead>\n",
              "    <tr style=\"text-align: right;\">\n",
              "      <th></th>\n",
              "      <th>Score1</th>\n",
              "      <th>Score2</th>\n",
              "      <th>Score3</th>\n",
              "      <th>Score4</th>\n",
              "      <th>Score5</th>\n",
              "    </tr>\n",
              "  </thead>\n",
              "  <tbody>\n",
              "    <tr>\n",
              "      <th>A</th>\n",
              "      <td>-1.749765</td>\n",
              "      <td>0.342680</td>\n",
              "      <td>1.153036</td>\n",
              "      <td>-0.252436</td>\n",
              "      <td>0.981321</td>\n",
              "    </tr>\n",
              "    <tr>\n",
              "      <th>B</th>\n",
              "      <td>0.514219</td>\n",
              "      <td>0.221180</td>\n",
              "      <td>-1.070043</td>\n",
              "      <td>-0.189496</td>\n",
              "      <td>0.255001</td>\n",
              "    </tr>\n",
              "    <tr>\n",
              "      <th>C</th>\n",
              "      <td>-0.458027</td>\n",
              "      <td>0.435163</td>\n",
              "      <td>-0.583595</td>\n",
              "      <td>0.816847</td>\n",
              "      <td>0.672721</td>\n",
              "    </tr>\n",
              "    <tr>\n",
              "      <th>D</th>\n",
              "      <td>-0.104411</td>\n",
              "      <td>-0.531280</td>\n",
              "      <td>1.029733</td>\n",
              "      <td>-0.438136</td>\n",
              "      <td>-1.118318</td>\n",
              "    </tr>\n",
              "    <tr>\n",
              "      <th>E</th>\n",
              "      <td>1.618982</td>\n",
              "      <td>1.541605</td>\n",
              "      <td>-0.251879</td>\n",
              "      <td>-0.842436</td>\n",
              "      <td>0.184519</td>\n",
              "    </tr>\n",
              "    <tr>\n",
              "      <th>F</th>\n",
              "      <td>0.937082</td>\n",
              "      <td>0.731000</td>\n",
              "      <td>1.361556</td>\n",
              "      <td>-0.326238</td>\n",
              "      <td>0.055676</td>\n",
              "    </tr>\n",
              "    <tr>\n",
              "      <th>G</th>\n",
              "      <td>0.222400</td>\n",
              "      <td>-1.443217</td>\n",
              "      <td>-0.756352</td>\n",
              "      <td>0.816454</td>\n",
              "      <td>0.750445</td>\n",
              "    </tr>\n",
              "    <tr>\n",
              "      <th>H</th>\n",
              "      <td>-0.455947</td>\n",
              "      <td>1.189622</td>\n",
              "      <td>-1.690617</td>\n",
              "      <td>-1.356399</td>\n",
              "      <td>-1.232435</td>\n",
              "    </tr>\n",
              "    <tr>\n",
              "      <th>I</th>\n",
              "      <td>-0.544439</td>\n",
              "      <td>-0.668172</td>\n",
              "      <td>0.007315</td>\n",
              "      <td>-0.612939</td>\n",
              "      <td>1.299748</td>\n",
              "    </tr>\n",
              "    <tr>\n",
              "      <th>J</th>\n",
              "      <td>-1.733096</td>\n",
              "      <td>-0.983310</td>\n",
              "      <td>0.357508</td>\n",
              "      <td>-1.613579</td>\n",
              "      <td>1.470714</td>\n",
              "    </tr>\n",
              "  </tbody>\n",
              "</table>\n",
              "</div>"
            ],
            "text/plain": [
              "     Score1    Score2    Score3    Score4    Score5\n",
              "A -1.749765  0.342680  1.153036 -0.252436  0.981321\n",
              "B  0.514219  0.221180 -1.070043 -0.189496  0.255001\n",
              "C -0.458027  0.435163 -0.583595  0.816847  0.672721\n",
              "D -0.104411 -0.531280  1.029733 -0.438136 -1.118318\n",
              "E  1.618982  1.541605 -0.251879 -0.842436  0.184519\n",
              "F  0.937082  0.731000  1.361556 -0.326238  0.055676\n",
              "G  0.222400 -1.443217 -0.756352  0.816454  0.750445\n",
              "H -0.455947  1.189622 -1.690617 -1.356399 -1.232435\n",
              "I -0.544439 -0.668172  0.007315 -0.612939  1.299748\n",
              "J -1.733096 -0.983310  0.357508 -1.613579  1.470714"
            ]
          },
          "metadata": {},
          "execution_count": 365
        }
      ]
    },
    {
      "cell_type": "code",
      "metadata": {
        "colab": {
          "base_uri": "https://localhost:8080/"
        },
        "id": "-mR1cpcX3EGl",
        "outputId": "5ec48133-02ce-4977-b288-49ecf8bbcaf6"
      },
      "source": [
        "randn(10,5)"
      ],
      "execution_count": null,
      "outputs": [
        {
          "output_type": "execute_result",
          "data": {
            "text/plain": [
              "array([[-1.1880176 , -0.54974619, -0.94004616, -0.82793236,  0.10886347],\n",
              "       [ 0.50780959, -0.86222735,  1.24946974, -0.07961125, -0.88973148],\n",
              "       [-0.88179839,  0.01863895,  0.23784462,  0.01354855, -1.6355294 ],\n",
              "       [-1.04420988,  0.61303888,  0.73620521,  1.02692144, -1.43219061],\n",
              "       [-1.8411883 ,  0.36609323, -0.33177714, -0.68921798,  2.03460756],\n",
              "       [-0.55071441,  0.75045333, -1.30699234,  0.58057334, -1.10452309],\n",
              "       [ 0.69012147,  0.68689007, -1.56668753,  0.90497412,  0.7788224 ],\n",
              "       [ 0.42823287,  0.10887199,  0.02828363, -0.57882582, -1.1994512 ],\n",
              "       [-1.70595201,  0.36916396,  1.87657343, -0.37690335,  1.83193608],\n",
              "       [ 0.00301743, -0.07602347,  0.00395759, -0.18501411, -2.48715154]])"
            ]
          },
          "metadata": {},
          "execution_count": 366
        }
      ]
    },
    {
      "cell_type": "code",
      "metadata": {
        "colab": {
          "base_uri": "https://localhost:8080/"
        },
        "id": "54A_FKDf3Ejn",
        "outputId": "ae6280c4-99c1-4bd1-87e2-e3616577c799"
      },
      "source": [
        "np.random.seed(100) # seed is used to lock the value and not to generate the random value every time runned\n",
        "np.random.randint(0,100)"
      ],
      "execution_count": null,
      "outputs": [
        {
          "output_type": "execute_result",
          "data": {
            "text/plain": [
              "8"
            ]
          },
          "metadata": {},
          "execution_count": 367
        }
      ]
    },
    {
      "cell_type": "code",
      "metadata": {
        "colab": {
          "base_uri": "https://localhost:8080/",
          "height": 363
        },
        "id": "KCJAQzxN3E6N",
        "outputId": "ce831372-48f0-4488-8464-4dc2ccff247f"
      },
      "source": [
        "df"
      ],
      "execution_count": null,
      "outputs": [
        {
          "output_type": "execute_result",
          "data": {
            "text/html": [
              "<div>\n",
              "<style scoped>\n",
              "    .dataframe tbody tr th:only-of-type {\n",
              "        vertical-align: middle;\n",
              "    }\n",
              "\n",
              "    .dataframe tbody tr th {\n",
              "        vertical-align: top;\n",
              "    }\n",
              "\n",
              "    .dataframe thead th {\n",
              "        text-align: right;\n",
              "    }\n",
              "</style>\n",
              "<table border=\"1\" class=\"dataframe\">\n",
              "  <thead>\n",
              "    <tr style=\"text-align: right;\">\n",
              "      <th></th>\n",
              "      <th>Score1</th>\n",
              "      <th>Score2</th>\n",
              "      <th>Score3</th>\n",
              "      <th>Score4</th>\n",
              "      <th>Score5</th>\n",
              "    </tr>\n",
              "  </thead>\n",
              "  <tbody>\n",
              "    <tr>\n",
              "      <th>A</th>\n",
              "      <td>-1.749765</td>\n",
              "      <td>0.342680</td>\n",
              "      <td>1.153036</td>\n",
              "      <td>-0.252436</td>\n",
              "      <td>0.981321</td>\n",
              "    </tr>\n",
              "    <tr>\n",
              "      <th>B</th>\n",
              "      <td>0.514219</td>\n",
              "      <td>0.221180</td>\n",
              "      <td>-1.070043</td>\n",
              "      <td>-0.189496</td>\n",
              "      <td>0.255001</td>\n",
              "    </tr>\n",
              "    <tr>\n",
              "      <th>C</th>\n",
              "      <td>-0.458027</td>\n",
              "      <td>0.435163</td>\n",
              "      <td>-0.583595</td>\n",
              "      <td>0.816847</td>\n",
              "      <td>0.672721</td>\n",
              "    </tr>\n",
              "    <tr>\n",
              "      <th>D</th>\n",
              "      <td>-0.104411</td>\n",
              "      <td>-0.531280</td>\n",
              "      <td>1.029733</td>\n",
              "      <td>-0.438136</td>\n",
              "      <td>-1.118318</td>\n",
              "    </tr>\n",
              "    <tr>\n",
              "      <th>E</th>\n",
              "      <td>1.618982</td>\n",
              "      <td>1.541605</td>\n",
              "      <td>-0.251879</td>\n",
              "      <td>-0.842436</td>\n",
              "      <td>0.184519</td>\n",
              "    </tr>\n",
              "    <tr>\n",
              "      <th>F</th>\n",
              "      <td>0.937082</td>\n",
              "      <td>0.731000</td>\n",
              "      <td>1.361556</td>\n",
              "      <td>-0.326238</td>\n",
              "      <td>0.055676</td>\n",
              "    </tr>\n",
              "    <tr>\n",
              "      <th>G</th>\n",
              "      <td>0.222400</td>\n",
              "      <td>-1.443217</td>\n",
              "      <td>-0.756352</td>\n",
              "      <td>0.816454</td>\n",
              "      <td>0.750445</td>\n",
              "    </tr>\n",
              "    <tr>\n",
              "      <th>H</th>\n",
              "      <td>-0.455947</td>\n",
              "      <td>1.189622</td>\n",
              "      <td>-1.690617</td>\n",
              "      <td>-1.356399</td>\n",
              "      <td>-1.232435</td>\n",
              "    </tr>\n",
              "    <tr>\n",
              "      <th>I</th>\n",
              "      <td>-0.544439</td>\n",
              "      <td>-0.668172</td>\n",
              "      <td>0.007315</td>\n",
              "      <td>-0.612939</td>\n",
              "      <td>1.299748</td>\n",
              "    </tr>\n",
              "    <tr>\n",
              "      <th>J</th>\n",
              "      <td>-1.733096</td>\n",
              "      <td>-0.983310</td>\n",
              "      <td>0.357508</td>\n",
              "      <td>-1.613579</td>\n",
              "      <td>1.470714</td>\n",
              "    </tr>\n",
              "  </tbody>\n",
              "</table>\n",
              "</div>"
            ],
            "text/plain": [
              "     Score1    Score2    Score3    Score4    Score5\n",
              "A -1.749765  0.342680  1.153036 -0.252436  0.981321\n",
              "B  0.514219  0.221180 -1.070043 -0.189496  0.255001\n",
              "C -0.458027  0.435163 -0.583595  0.816847  0.672721\n",
              "D -0.104411 -0.531280  1.029733 -0.438136 -1.118318\n",
              "E  1.618982  1.541605 -0.251879 -0.842436  0.184519\n",
              "F  0.937082  0.731000  1.361556 -0.326238  0.055676\n",
              "G  0.222400 -1.443217 -0.756352  0.816454  0.750445\n",
              "H -0.455947  1.189622 -1.690617 -1.356399 -1.232435\n",
              "I -0.544439 -0.668172  0.007315 -0.612939  1.299748\n",
              "J -1.733096 -0.983310  0.357508 -1.613579  1.470714"
            ]
          },
          "metadata": {},
          "execution_count": 368
        }
      ]
    },
    {
      "cell_type": "code",
      "metadata": {
        "colab": {
          "base_uri": "https://localhost:8080/",
          "height": 363
        },
        "id": "o7tGSJKr3FL3",
        "outputId": "d8baddd6-3f1a-48bf-c371-ed359d4e11fb"
      },
      "source": [
        "df[['Score4','Score3','Score1']]"
      ],
      "execution_count": null,
      "outputs": [
        {
          "output_type": "execute_result",
          "data": {
            "text/html": [
              "<div>\n",
              "<style scoped>\n",
              "    .dataframe tbody tr th:only-of-type {\n",
              "        vertical-align: middle;\n",
              "    }\n",
              "\n",
              "    .dataframe tbody tr th {\n",
              "        vertical-align: top;\n",
              "    }\n",
              "\n",
              "    .dataframe thead th {\n",
              "        text-align: right;\n",
              "    }\n",
              "</style>\n",
              "<table border=\"1\" class=\"dataframe\">\n",
              "  <thead>\n",
              "    <tr style=\"text-align: right;\">\n",
              "      <th></th>\n",
              "      <th>Score4</th>\n",
              "      <th>Score3</th>\n",
              "      <th>Score1</th>\n",
              "    </tr>\n",
              "  </thead>\n",
              "  <tbody>\n",
              "    <tr>\n",
              "      <th>A</th>\n",
              "      <td>-0.252436</td>\n",
              "      <td>1.153036</td>\n",
              "      <td>-1.749765</td>\n",
              "    </tr>\n",
              "    <tr>\n",
              "      <th>B</th>\n",
              "      <td>-0.189496</td>\n",
              "      <td>-1.070043</td>\n",
              "      <td>0.514219</td>\n",
              "    </tr>\n",
              "    <tr>\n",
              "      <th>C</th>\n",
              "      <td>0.816847</td>\n",
              "      <td>-0.583595</td>\n",
              "      <td>-0.458027</td>\n",
              "    </tr>\n",
              "    <tr>\n",
              "      <th>D</th>\n",
              "      <td>-0.438136</td>\n",
              "      <td>1.029733</td>\n",
              "      <td>-0.104411</td>\n",
              "    </tr>\n",
              "    <tr>\n",
              "      <th>E</th>\n",
              "      <td>-0.842436</td>\n",
              "      <td>-0.251879</td>\n",
              "      <td>1.618982</td>\n",
              "    </tr>\n",
              "    <tr>\n",
              "      <th>F</th>\n",
              "      <td>-0.326238</td>\n",
              "      <td>1.361556</td>\n",
              "      <td>0.937082</td>\n",
              "    </tr>\n",
              "    <tr>\n",
              "      <th>G</th>\n",
              "      <td>0.816454</td>\n",
              "      <td>-0.756352</td>\n",
              "      <td>0.222400</td>\n",
              "    </tr>\n",
              "    <tr>\n",
              "      <th>H</th>\n",
              "      <td>-1.356399</td>\n",
              "      <td>-1.690617</td>\n",
              "      <td>-0.455947</td>\n",
              "    </tr>\n",
              "    <tr>\n",
              "      <th>I</th>\n",
              "      <td>-0.612939</td>\n",
              "      <td>0.007315</td>\n",
              "      <td>-0.544439</td>\n",
              "    </tr>\n",
              "    <tr>\n",
              "      <th>J</th>\n",
              "      <td>-1.613579</td>\n",
              "      <td>0.357508</td>\n",
              "      <td>-1.733096</td>\n",
              "    </tr>\n",
              "  </tbody>\n",
              "</table>\n",
              "</div>"
            ],
            "text/plain": [
              "     Score4    Score3    Score1\n",
              "A -0.252436  1.153036 -1.749765\n",
              "B -0.189496 -1.070043  0.514219\n",
              "C  0.816847 -0.583595 -0.458027\n",
              "D -0.438136  1.029733 -0.104411\n",
              "E -0.842436 -0.251879  1.618982\n",
              "F -0.326238  1.361556  0.937082\n",
              "G  0.816454 -0.756352  0.222400\n",
              "H -1.356399 -1.690617 -0.455947\n",
              "I -0.612939  0.007315 -0.544439\n",
              "J -1.613579  0.357508 -1.733096"
            ]
          },
          "metadata": {},
          "execution_count": 369
        }
      ]
    },
    {
      "cell_type": "code",
      "metadata": {
        "colab": {
          "base_uri": "https://localhost:8080/"
        },
        "id": "kvP4jqmv3FUo",
        "outputId": "ca74eb2e-65e8-4c32-cb5e-9655e43b5b5b"
      },
      "source": [
        "type(df['Score4'])"
      ],
      "execution_count": null,
      "outputs": [
        {
          "output_type": "execute_result",
          "data": {
            "text/plain": [
              "pandas.core.series.Series"
            ]
          },
          "metadata": {},
          "execution_count": 370
        }
      ]
    },
    {
      "cell_type": "markdown",
      "metadata": {
        "id": "TJ6u96y32g9k"
      },
      "source": [
        "## Adding new column to dataframe\n"
      ]
    },
    {
      "cell_type": "code",
      "metadata": {
        "id": "uFTHWYnS3FhM"
      },
      "source": [
        "df['Score6'] = df['Score3'] + df['Score4']"
      ],
      "execution_count": null,
      "outputs": []
    },
    {
      "cell_type": "code",
      "metadata": {
        "colab": {
          "base_uri": "https://localhost:8080/"
        },
        "id": "03ZcJGZj3Fr2",
        "outputId": "aba9f532-7017-4b7d-d4f6-bb2c9ad53544"
      },
      "source": [
        "df['Score6']"
      ],
      "execution_count": null,
      "outputs": [
        {
          "output_type": "execute_result",
          "data": {
            "text/plain": [
              "A    0.900600\n",
              "B   -1.259539\n",
              "C    0.233252\n",
              "D    0.591597\n",
              "E   -1.094315\n",
              "F    1.035318\n",
              "G    0.060102\n",
              "H   -3.047016\n",
              "I   -0.605624\n",
              "J   -1.256071\n",
              "Name: Score6, dtype: float64"
            ]
          },
          "metadata": {},
          "execution_count": 372
        }
      ]
    },
    {
      "cell_type": "code",
      "metadata": {
        "colab": {
          "base_uri": "https://localhost:8080/",
          "height": 363
        },
        "id": "HCSA6ztR3GFy",
        "outputId": "380ab29d-6def-4218-f3b5-1a01814cdf75"
      },
      "source": [
        "df"
      ],
      "execution_count": null,
      "outputs": [
        {
          "output_type": "execute_result",
          "data": {
            "text/html": [
              "<div>\n",
              "<style scoped>\n",
              "    .dataframe tbody tr th:only-of-type {\n",
              "        vertical-align: middle;\n",
              "    }\n",
              "\n",
              "    .dataframe tbody tr th {\n",
              "        vertical-align: top;\n",
              "    }\n",
              "\n",
              "    .dataframe thead th {\n",
              "        text-align: right;\n",
              "    }\n",
              "</style>\n",
              "<table border=\"1\" class=\"dataframe\">\n",
              "  <thead>\n",
              "    <tr style=\"text-align: right;\">\n",
              "      <th></th>\n",
              "      <th>Score1</th>\n",
              "      <th>Score2</th>\n",
              "      <th>Score3</th>\n",
              "      <th>Score4</th>\n",
              "      <th>Score5</th>\n",
              "      <th>Score6</th>\n",
              "    </tr>\n",
              "  </thead>\n",
              "  <tbody>\n",
              "    <tr>\n",
              "      <th>A</th>\n",
              "      <td>-1.749765</td>\n",
              "      <td>0.342680</td>\n",
              "      <td>1.153036</td>\n",
              "      <td>-0.252436</td>\n",
              "      <td>0.981321</td>\n",
              "      <td>0.900600</td>\n",
              "    </tr>\n",
              "    <tr>\n",
              "      <th>B</th>\n",
              "      <td>0.514219</td>\n",
              "      <td>0.221180</td>\n",
              "      <td>-1.070043</td>\n",
              "      <td>-0.189496</td>\n",
              "      <td>0.255001</td>\n",
              "      <td>-1.259539</td>\n",
              "    </tr>\n",
              "    <tr>\n",
              "      <th>C</th>\n",
              "      <td>-0.458027</td>\n",
              "      <td>0.435163</td>\n",
              "      <td>-0.583595</td>\n",
              "      <td>0.816847</td>\n",
              "      <td>0.672721</td>\n",
              "      <td>0.233252</td>\n",
              "    </tr>\n",
              "    <tr>\n",
              "      <th>D</th>\n",
              "      <td>-0.104411</td>\n",
              "      <td>-0.531280</td>\n",
              "      <td>1.029733</td>\n",
              "      <td>-0.438136</td>\n",
              "      <td>-1.118318</td>\n",
              "      <td>0.591597</td>\n",
              "    </tr>\n",
              "    <tr>\n",
              "      <th>E</th>\n",
              "      <td>1.618982</td>\n",
              "      <td>1.541605</td>\n",
              "      <td>-0.251879</td>\n",
              "      <td>-0.842436</td>\n",
              "      <td>0.184519</td>\n",
              "      <td>-1.094315</td>\n",
              "    </tr>\n",
              "    <tr>\n",
              "      <th>F</th>\n",
              "      <td>0.937082</td>\n",
              "      <td>0.731000</td>\n",
              "      <td>1.361556</td>\n",
              "      <td>-0.326238</td>\n",
              "      <td>0.055676</td>\n",
              "      <td>1.035318</td>\n",
              "    </tr>\n",
              "    <tr>\n",
              "      <th>G</th>\n",
              "      <td>0.222400</td>\n",
              "      <td>-1.443217</td>\n",
              "      <td>-0.756352</td>\n",
              "      <td>0.816454</td>\n",
              "      <td>0.750445</td>\n",
              "      <td>0.060102</td>\n",
              "    </tr>\n",
              "    <tr>\n",
              "      <th>H</th>\n",
              "      <td>-0.455947</td>\n",
              "      <td>1.189622</td>\n",
              "      <td>-1.690617</td>\n",
              "      <td>-1.356399</td>\n",
              "      <td>-1.232435</td>\n",
              "      <td>-3.047016</td>\n",
              "    </tr>\n",
              "    <tr>\n",
              "      <th>I</th>\n",
              "      <td>-0.544439</td>\n",
              "      <td>-0.668172</td>\n",
              "      <td>0.007315</td>\n",
              "      <td>-0.612939</td>\n",
              "      <td>1.299748</td>\n",
              "      <td>-0.605624</td>\n",
              "    </tr>\n",
              "    <tr>\n",
              "      <th>J</th>\n",
              "      <td>-1.733096</td>\n",
              "      <td>-0.983310</td>\n",
              "      <td>0.357508</td>\n",
              "      <td>-1.613579</td>\n",
              "      <td>1.470714</td>\n",
              "      <td>-1.256071</td>\n",
              "    </tr>\n",
              "  </tbody>\n",
              "</table>\n",
              "</div>"
            ],
            "text/plain": [
              "     Score1    Score2    Score3    Score4    Score5    Score6\n",
              "A -1.749765  0.342680  1.153036 -0.252436  0.981321  0.900600\n",
              "B  0.514219  0.221180 -1.070043 -0.189496  0.255001 -1.259539\n",
              "C -0.458027  0.435163 -0.583595  0.816847  0.672721  0.233252\n",
              "D -0.104411 -0.531280  1.029733 -0.438136 -1.118318  0.591597\n",
              "E  1.618982  1.541605 -0.251879 -0.842436  0.184519 -1.094315\n",
              "F  0.937082  0.731000  1.361556 -0.326238  0.055676  1.035318\n",
              "G  0.222400 -1.443217 -0.756352  0.816454  0.750445  0.060102\n",
              "H -0.455947  1.189622 -1.690617 -1.356399 -1.232435 -3.047016\n",
              "I -0.544439 -0.668172  0.007315 -0.612939  1.299748 -0.605624\n",
              "J -1.733096 -0.983310  0.357508 -1.613579  1.470714 -1.256071"
            ]
          },
          "metadata": {},
          "execution_count": 373
        }
      ]
    },
    {
      "cell_type": "code",
      "metadata": {
        "colab": {
          "base_uri": "https://localhost:8080/",
          "height": 363
        },
        "id": "sTRUnC_n3GMQ",
        "outputId": "82d735f5-86a1-4ea6-dd88-21705ffd73c5"
      },
      "source": [
        "df.drop('Score6', axis=1 )  # The parameter axis=1 refer to columns"
      ],
      "execution_count": null,
      "outputs": [
        {
          "output_type": "execute_result",
          "data": {
            "text/html": [
              "<div>\n",
              "<style scoped>\n",
              "    .dataframe tbody tr th:only-of-type {\n",
              "        vertical-align: middle;\n",
              "    }\n",
              "\n",
              "    .dataframe tbody tr th {\n",
              "        vertical-align: top;\n",
              "    }\n",
              "\n",
              "    .dataframe thead th {\n",
              "        text-align: right;\n",
              "    }\n",
              "</style>\n",
              "<table border=\"1\" class=\"dataframe\">\n",
              "  <thead>\n",
              "    <tr style=\"text-align: right;\">\n",
              "      <th></th>\n",
              "      <th>Score1</th>\n",
              "      <th>Score2</th>\n",
              "      <th>Score3</th>\n",
              "      <th>Score4</th>\n",
              "      <th>Score5</th>\n",
              "    </tr>\n",
              "  </thead>\n",
              "  <tbody>\n",
              "    <tr>\n",
              "      <th>A</th>\n",
              "      <td>-1.749765</td>\n",
              "      <td>0.342680</td>\n",
              "      <td>1.153036</td>\n",
              "      <td>-0.252436</td>\n",
              "      <td>0.981321</td>\n",
              "    </tr>\n",
              "    <tr>\n",
              "      <th>B</th>\n",
              "      <td>0.514219</td>\n",
              "      <td>0.221180</td>\n",
              "      <td>-1.070043</td>\n",
              "      <td>-0.189496</td>\n",
              "      <td>0.255001</td>\n",
              "    </tr>\n",
              "    <tr>\n",
              "      <th>C</th>\n",
              "      <td>-0.458027</td>\n",
              "      <td>0.435163</td>\n",
              "      <td>-0.583595</td>\n",
              "      <td>0.816847</td>\n",
              "      <td>0.672721</td>\n",
              "    </tr>\n",
              "    <tr>\n",
              "      <th>D</th>\n",
              "      <td>-0.104411</td>\n",
              "      <td>-0.531280</td>\n",
              "      <td>1.029733</td>\n",
              "      <td>-0.438136</td>\n",
              "      <td>-1.118318</td>\n",
              "    </tr>\n",
              "    <tr>\n",
              "      <th>E</th>\n",
              "      <td>1.618982</td>\n",
              "      <td>1.541605</td>\n",
              "      <td>-0.251879</td>\n",
              "      <td>-0.842436</td>\n",
              "      <td>0.184519</td>\n",
              "    </tr>\n",
              "    <tr>\n",
              "      <th>F</th>\n",
              "      <td>0.937082</td>\n",
              "      <td>0.731000</td>\n",
              "      <td>1.361556</td>\n",
              "      <td>-0.326238</td>\n",
              "      <td>0.055676</td>\n",
              "    </tr>\n",
              "    <tr>\n",
              "      <th>G</th>\n",
              "      <td>0.222400</td>\n",
              "      <td>-1.443217</td>\n",
              "      <td>-0.756352</td>\n",
              "      <td>0.816454</td>\n",
              "      <td>0.750445</td>\n",
              "    </tr>\n",
              "    <tr>\n",
              "      <th>H</th>\n",
              "      <td>-0.455947</td>\n",
              "      <td>1.189622</td>\n",
              "      <td>-1.690617</td>\n",
              "      <td>-1.356399</td>\n",
              "      <td>-1.232435</td>\n",
              "    </tr>\n",
              "    <tr>\n",
              "      <th>I</th>\n",
              "      <td>-0.544439</td>\n",
              "      <td>-0.668172</td>\n",
              "      <td>0.007315</td>\n",
              "      <td>-0.612939</td>\n",
              "      <td>1.299748</td>\n",
              "    </tr>\n",
              "    <tr>\n",
              "      <th>J</th>\n",
              "      <td>-1.733096</td>\n",
              "      <td>-0.983310</td>\n",
              "      <td>0.357508</td>\n",
              "      <td>-1.613579</td>\n",
              "      <td>1.470714</td>\n",
              "    </tr>\n",
              "  </tbody>\n",
              "</table>\n",
              "</div>"
            ],
            "text/plain": [
              "     Score1    Score2    Score3    Score4    Score5\n",
              "A -1.749765  0.342680  1.153036 -0.252436  0.981321\n",
              "B  0.514219  0.221180 -1.070043 -0.189496  0.255001\n",
              "C -0.458027  0.435163 -0.583595  0.816847  0.672721\n",
              "D -0.104411 -0.531280  1.029733 -0.438136 -1.118318\n",
              "E  1.618982  1.541605 -0.251879 -0.842436  0.184519\n",
              "F  0.937082  0.731000  1.361556 -0.326238  0.055676\n",
              "G  0.222400 -1.443217 -0.756352  0.816454  0.750445\n",
              "H -0.455947  1.189622 -1.690617 -1.356399 -1.232435\n",
              "I -0.544439 -0.668172  0.007315 -0.612939  1.299748\n",
              "J -1.733096 -0.983310  0.357508 -1.613579  1.470714"
            ]
          },
          "metadata": {},
          "execution_count": 374
        }
      ]
    },
    {
      "cell_type": "code",
      "metadata": {
        "colab": {
          "base_uri": "https://localhost:8080/",
          "height": 363
        },
        "id": "LY-N5pmk3GTX",
        "outputId": "6360c73f-2343-44a4-aec0-b88c26f6f0b2"
      },
      "source": [
        "df"
      ],
      "execution_count": null,
      "outputs": [
        {
          "output_type": "execute_result",
          "data": {
            "text/html": [
              "<div>\n",
              "<style scoped>\n",
              "    .dataframe tbody tr th:only-of-type {\n",
              "        vertical-align: middle;\n",
              "    }\n",
              "\n",
              "    .dataframe tbody tr th {\n",
              "        vertical-align: top;\n",
              "    }\n",
              "\n",
              "    .dataframe thead th {\n",
              "        text-align: right;\n",
              "    }\n",
              "</style>\n",
              "<table border=\"1\" class=\"dataframe\">\n",
              "  <thead>\n",
              "    <tr style=\"text-align: right;\">\n",
              "      <th></th>\n",
              "      <th>Score1</th>\n",
              "      <th>Score2</th>\n",
              "      <th>Score3</th>\n",
              "      <th>Score4</th>\n",
              "      <th>Score5</th>\n",
              "      <th>Score6</th>\n",
              "    </tr>\n",
              "  </thead>\n",
              "  <tbody>\n",
              "    <tr>\n",
              "      <th>A</th>\n",
              "      <td>-1.749765</td>\n",
              "      <td>0.342680</td>\n",
              "      <td>1.153036</td>\n",
              "      <td>-0.252436</td>\n",
              "      <td>0.981321</td>\n",
              "      <td>0.900600</td>\n",
              "    </tr>\n",
              "    <tr>\n",
              "      <th>B</th>\n",
              "      <td>0.514219</td>\n",
              "      <td>0.221180</td>\n",
              "      <td>-1.070043</td>\n",
              "      <td>-0.189496</td>\n",
              "      <td>0.255001</td>\n",
              "      <td>-1.259539</td>\n",
              "    </tr>\n",
              "    <tr>\n",
              "      <th>C</th>\n",
              "      <td>-0.458027</td>\n",
              "      <td>0.435163</td>\n",
              "      <td>-0.583595</td>\n",
              "      <td>0.816847</td>\n",
              "      <td>0.672721</td>\n",
              "      <td>0.233252</td>\n",
              "    </tr>\n",
              "    <tr>\n",
              "      <th>D</th>\n",
              "      <td>-0.104411</td>\n",
              "      <td>-0.531280</td>\n",
              "      <td>1.029733</td>\n",
              "      <td>-0.438136</td>\n",
              "      <td>-1.118318</td>\n",
              "      <td>0.591597</td>\n",
              "    </tr>\n",
              "    <tr>\n",
              "      <th>E</th>\n",
              "      <td>1.618982</td>\n",
              "      <td>1.541605</td>\n",
              "      <td>-0.251879</td>\n",
              "      <td>-0.842436</td>\n",
              "      <td>0.184519</td>\n",
              "      <td>-1.094315</td>\n",
              "    </tr>\n",
              "    <tr>\n",
              "      <th>F</th>\n",
              "      <td>0.937082</td>\n",
              "      <td>0.731000</td>\n",
              "      <td>1.361556</td>\n",
              "      <td>-0.326238</td>\n",
              "      <td>0.055676</td>\n",
              "      <td>1.035318</td>\n",
              "    </tr>\n",
              "    <tr>\n",
              "      <th>G</th>\n",
              "      <td>0.222400</td>\n",
              "      <td>-1.443217</td>\n",
              "      <td>-0.756352</td>\n",
              "      <td>0.816454</td>\n",
              "      <td>0.750445</td>\n",
              "      <td>0.060102</td>\n",
              "    </tr>\n",
              "    <tr>\n",
              "      <th>H</th>\n",
              "      <td>-0.455947</td>\n",
              "      <td>1.189622</td>\n",
              "      <td>-1.690617</td>\n",
              "      <td>-1.356399</td>\n",
              "      <td>-1.232435</td>\n",
              "      <td>-3.047016</td>\n",
              "    </tr>\n",
              "    <tr>\n",
              "      <th>I</th>\n",
              "      <td>-0.544439</td>\n",
              "      <td>-0.668172</td>\n",
              "      <td>0.007315</td>\n",
              "      <td>-0.612939</td>\n",
              "      <td>1.299748</td>\n",
              "      <td>-0.605624</td>\n",
              "    </tr>\n",
              "    <tr>\n",
              "      <th>J</th>\n",
              "      <td>-1.733096</td>\n",
              "      <td>-0.983310</td>\n",
              "      <td>0.357508</td>\n",
              "      <td>-1.613579</td>\n",
              "      <td>1.470714</td>\n",
              "      <td>-1.256071</td>\n",
              "    </tr>\n",
              "  </tbody>\n",
              "</table>\n",
              "</div>"
            ],
            "text/plain": [
              "     Score1    Score2    Score3    Score4    Score5    Score6\n",
              "A -1.749765  0.342680  1.153036 -0.252436  0.981321  0.900600\n",
              "B  0.514219  0.221180 -1.070043 -0.189496  0.255001 -1.259539\n",
              "C -0.458027  0.435163 -0.583595  0.816847  0.672721  0.233252\n",
              "D -0.104411 -0.531280  1.029733 -0.438136 -1.118318  0.591597\n",
              "E  1.618982  1.541605 -0.251879 -0.842436  0.184519 -1.094315\n",
              "F  0.937082  0.731000  1.361556 -0.326238  0.055676  1.035318\n",
              "G  0.222400 -1.443217 -0.756352  0.816454  0.750445  0.060102\n",
              "H -0.455947  1.189622 -1.690617 -1.356399 -1.232435 -3.047016\n",
              "I -0.544439 -0.668172  0.007315 -0.612939  1.299748 -0.605624\n",
              "J -1.733096 -0.983310  0.357508 -1.613579  1.470714 -1.256071"
            ]
          },
          "metadata": {},
          "execution_count": 375
        }
      ]
    },
    {
      "cell_type": "markdown",
      "metadata": {
        "id": "o5byHK2N5CH0"
      },
      "source": [
        "##### The column doesn't gets deleted until we use inplace = True\n",
        "Inplace is an argument used in different functions. Some functions in which inplace is used as an attributes like, set_index(), dropna(), fillna(), reset_index(), drop(), replace() and many more. The default value of this attribute is False and it returns the copy of the object."
      ]
    },
    {
      "cell_type": "code",
      "metadata": {
        "id": "IBtemNS83GaR"
      },
      "source": [
        "df.drop('Score6', axis=1, inplace = True )"
      ],
      "execution_count": null,
      "outputs": []
    },
    {
      "cell_type": "code",
      "metadata": {
        "colab": {
          "base_uri": "https://localhost:8080/",
          "height": 363
        },
        "id": "6D31uhh9IPDI",
        "outputId": "1522d470-2348-4cce-a01f-c802ff43c31f"
      },
      "source": [
        "df"
      ],
      "execution_count": null,
      "outputs": [
        {
          "output_type": "execute_result",
          "data": {
            "text/html": [
              "<div>\n",
              "<style scoped>\n",
              "    .dataframe tbody tr th:only-of-type {\n",
              "        vertical-align: middle;\n",
              "    }\n",
              "\n",
              "    .dataframe tbody tr th {\n",
              "        vertical-align: top;\n",
              "    }\n",
              "\n",
              "    .dataframe thead th {\n",
              "        text-align: right;\n",
              "    }\n",
              "</style>\n",
              "<table border=\"1\" class=\"dataframe\">\n",
              "  <thead>\n",
              "    <tr style=\"text-align: right;\">\n",
              "      <th></th>\n",
              "      <th>Score1</th>\n",
              "      <th>Score2</th>\n",
              "      <th>Score3</th>\n",
              "      <th>Score4</th>\n",
              "      <th>Score5</th>\n",
              "    </tr>\n",
              "  </thead>\n",
              "  <tbody>\n",
              "    <tr>\n",
              "      <th>A</th>\n",
              "      <td>-1.749765</td>\n",
              "      <td>0.342680</td>\n",
              "      <td>1.153036</td>\n",
              "      <td>-0.252436</td>\n",
              "      <td>0.981321</td>\n",
              "    </tr>\n",
              "    <tr>\n",
              "      <th>B</th>\n",
              "      <td>0.514219</td>\n",
              "      <td>0.221180</td>\n",
              "      <td>-1.070043</td>\n",
              "      <td>-0.189496</td>\n",
              "      <td>0.255001</td>\n",
              "    </tr>\n",
              "    <tr>\n",
              "      <th>C</th>\n",
              "      <td>-0.458027</td>\n",
              "      <td>0.435163</td>\n",
              "      <td>-0.583595</td>\n",
              "      <td>0.816847</td>\n",
              "      <td>0.672721</td>\n",
              "    </tr>\n",
              "    <tr>\n",
              "      <th>D</th>\n",
              "      <td>-0.104411</td>\n",
              "      <td>-0.531280</td>\n",
              "      <td>1.029733</td>\n",
              "      <td>-0.438136</td>\n",
              "      <td>-1.118318</td>\n",
              "    </tr>\n",
              "    <tr>\n",
              "      <th>E</th>\n",
              "      <td>1.618982</td>\n",
              "      <td>1.541605</td>\n",
              "      <td>-0.251879</td>\n",
              "      <td>-0.842436</td>\n",
              "      <td>0.184519</td>\n",
              "    </tr>\n",
              "    <tr>\n",
              "      <th>F</th>\n",
              "      <td>0.937082</td>\n",
              "      <td>0.731000</td>\n",
              "      <td>1.361556</td>\n",
              "      <td>-0.326238</td>\n",
              "      <td>0.055676</td>\n",
              "    </tr>\n",
              "    <tr>\n",
              "      <th>G</th>\n",
              "      <td>0.222400</td>\n",
              "      <td>-1.443217</td>\n",
              "      <td>-0.756352</td>\n",
              "      <td>0.816454</td>\n",
              "      <td>0.750445</td>\n",
              "    </tr>\n",
              "    <tr>\n",
              "      <th>H</th>\n",
              "      <td>-0.455947</td>\n",
              "      <td>1.189622</td>\n",
              "      <td>-1.690617</td>\n",
              "      <td>-1.356399</td>\n",
              "      <td>-1.232435</td>\n",
              "    </tr>\n",
              "    <tr>\n",
              "      <th>I</th>\n",
              "      <td>-0.544439</td>\n",
              "      <td>-0.668172</td>\n",
              "      <td>0.007315</td>\n",
              "      <td>-0.612939</td>\n",
              "      <td>1.299748</td>\n",
              "    </tr>\n",
              "    <tr>\n",
              "      <th>J</th>\n",
              "      <td>-1.733096</td>\n",
              "      <td>-0.983310</td>\n",
              "      <td>0.357508</td>\n",
              "      <td>-1.613579</td>\n",
              "      <td>1.470714</td>\n",
              "    </tr>\n",
              "  </tbody>\n",
              "</table>\n",
              "</div>"
            ],
            "text/plain": [
              "     Score1    Score2    Score3    Score4    Score5\n",
              "A -1.749765  0.342680  1.153036 -0.252436  0.981321\n",
              "B  0.514219  0.221180 -1.070043 -0.189496  0.255001\n",
              "C -0.458027  0.435163 -0.583595  0.816847  0.672721\n",
              "D -0.104411 -0.531280  1.029733 -0.438136 -1.118318\n",
              "E  1.618982  1.541605 -0.251879 -0.842436  0.184519\n",
              "F  0.937082  0.731000  1.361556 -0.326238  0.055676\n",
              "G  0.222400 -1.443217 -0.756352  0.816454  0.750445\n",
              "H -0.455947  1.189622 -1.690617 -1.356399 -1.232435\n",
              "I -0.544439 -0.668172  0.007315 -0.612939  1.299748\n",
              "J -1.733096 -0.983310  0.357508 -1.613579  1.470714"
            ]
          },
          "metadata": {},
          "execution_count": 377
        }
      ]
    },
    {
      "cell_type": "code",
      "metadata": {
        "id": "B6JwtQ-NIPFd"
      },
      "source": [
        "df.drop('A', axis=0, inplace = True )"
      ],
      "execution_count": null,
      "outputs": []
    },
    {
      "cell_type": "code",
      "metadata": {
        "colab": {
          "base_uri": "https://localhost:8080/",
          "height": 332
        },
        "id": "8OiAVKjwIPH5",
        "outputId": "d00428fe-7e89-40f4-f593-74ae82c090c1"
      },
      "source": [
        "df"
      ],
      "execution_count": null,
      "outputs": [
        {
          "output_type": "execute_result",
          "data": {
            "text/html": [
              "<div>\n",
              "<style scoped>\n",
              "    .dataframe tbody tr th:only-of-type {\n",
              "        vertical-align: middle;\n",
              "    }\n",
              "\n",
              "    .dataframe tbody tr th {\n",
              "        vertical-align: top;\n",
              "    }\n",
              "\n",
              "    .dataframe thead th {\n",
              "        text-align: right;\n",
              "    }\n",
              "</style>\n",
              "<table border=\"1\" class=\"dataframe\">\n",
              "  <thead>\n",
              "    <tr style=\"text-align: right;\">\n",
              "      <th></th>\n",
              "      <th>Score1</th>\n",
              "      <th>Score2</th>\n",
              "      <th>Score3</th>\n",
              "      <th>Score4</th>\n",
              "      <th>Score5</th>\n",
              "    </tr>\n",
              "  </thead>\n",
              "  <tbody>\n",
              "    <tr>\n",
              "      <th>B</th>\n",
              "      <td>0.514219</td>\n",
              "      <td>0.221180</td>\n",
              "      <td>-1.070043</td>\n",
              "      <td>-0.189496</td>\n",
              "      <td>0.255001</td>\n",
              "    </tr>\n",
              "    <tr>\n",
              "      <th>C</th>\n",
              "      <td>-0.458027</td>\n",
              "      <td>0.435163</td>\n",
              "      <td>-0.583595</td>\n",
              "      <td>0.816847</td>\n",
              "      <td>0.672721</td>\n",
              "    </tr>\n",
              "    <tr>\n",
              "      <th>D</th>\n",
              "      <td>-0.104411</td>\n",
              "      <td>-0.531280</td>\n",
              "      <td>1.029733</td>\n",
              "      <td>-0.438136</td>\n",
              "      <td>-1.118318</td>\n",
              "    </tr>\n",
              "    <tr>\n",
              "      <th>E</th>\n",
              "      <td>1.618982</td>\n",
              "      <td>1.541605</td>\n",
              "      <td>-0.251879</td>\n",
              "      <td>-0.842436</td>\n",
              "      <td>0.184519</td>\n",
              "    </tr>\n",
              "    <tr>\n",
              "      <th>F</th>\n",
              "      <td>0.937082</td>\n",
              "      <td>0.731000</td>\n",
              "      <td>1.361556</td>\n",
              "      <td>-0.326238</td>\n",
              "      <td>0.055676</td>\n",
              "    </tr>\n",
              "    <tr>\n",
              "      <th>G</th>\n",
              "      <td>0.222400</td>\n",
              "      <td>-1.443217</td>\n",
              "      <td>-0.756352</td>\n",
              "      <td>0.816454</td>\n",
              "      <td>0.750445</td>\n",
              "    </tr>\n",
              "    <tr>\n",
              "      <th>H</th>\n",
              "      <td>-0.455947</td>\n",
              "      <td>1.189622</td>\n",
              "      <td>-1.690617</td>\n",
              "      <td>-1.356399</td>\n",
              "      <td>-1.232435</td>\n",
              "    </tr>\n",
              "    <tr>\n",
              "      <th>I</th>\n",
              "      <td>-0.544439</td>\n",
              "      <td>-0.668172</td>\n",
              "      <td>0.007315</td>\n",
              "      <td>-0.612939</td>\n",
              "      <td>1.299748</td>\n",
              "    </tr>\n",
              "    <tr>\n",
              "      <th>J</th>\n",
              "      <td>-1.733096</td>\n",
              "      <td>-0.983310</td>\n",
              "      <td>0.357508</td>\n",
              "      <td>-1.613579</td>\n",
              "      <td>1.470714</td>\n",
              "    </tr>\n",
              "  </tbody>\n",
              "</table>\n",
              "</div>"
            ],
            "text/plain": [
              "     Score1    Score2    Score3    Score4    Score5\n",
              "B  0.514219  0.221180 -1.070043 -0.189496  0.255001\n",
              "C -0.458027  0.435163 -0.583595  0.816847  0.672721\n",
              "D -0.104411 -0.531280  1.029733 -0.438136 -1.118318\n",
              "E  1.618982  1.541605 -0.251879 -0.842436  0.184519\n",
              "F  0.937082  0.731000  1.361556 -0.326238  0.055676\n",
              "G  0.222400 -1.443217 -0.756352  0.816454  0.750445\n",
              "H -0.455947  1.189622 -1.690617 -1.356399 -1.232435\n",
              "I -0.544439 -0.668172  0.007315 -0.612939  1.299748\n",
              "J -1.733096 -0.983310  0.357508 -1.613579  1.470714"
            ]
          },
          "metadata": {},
          "execution_count": 379
        }
      ]
    },
    {
      "cell_type": "code",
      "metadata": {
        "colab": {
          "base_uri": "https://localhost:8080/"
        },
        "id": "Eg8JSV2AIPKv",
        "outputId": "00f1c25d-e136-45d0-de0b-d6336187dfbf"
      },
      "source": [
        "df.Score1   #  (or) df['Score1'] "
      ],
      "execution_count": null,
      "outputs": [
        {
          "output_type": "execute_result",
          "data": {
            "text/plain": [
              "B    0.514219\n",
              "C   -0.458027\n",
              "D   -0.104411\n",
              "E    1.618982\n",
              "F    0.937082\n",
              "G    0.222400\n",
              "H   -0.455947\n",
              "I   -0.544439\n",
              "J   -1.733096\n",
              "Name: Score1, dtype: float64"
            ]
          },
          "metadata": {},
          "execution_count": 380
        }
      ]
    },
    {
      "cell_type": "code",
      "metadata": {
        "colab": {
          "base_uri": "https://localhost:8080/"
        },
        "id": "IjDtu_TsIPNX",
        "outputId": "f2cbd2e3-7afc-4f7d-d93d-42827da10602"
      },
      "source": [
        "df.loc['F']     # loc is used to access rows as a series"
      ],
      "execution_count": null,
      "outputs": [
        {
          "output_type": "execute_result",
          "data": {
            "text/plain": [
              "Score1    0.937082\n",
              "Score2    0.731000\n",
              "Score3    1.361556\n",
              "Score4   -0.326238\n",
              "Score5    0.055676\n",
              "Name: F, dtype: float64"
            ]
          },
          "metadata": {},
          "execution_count": 381
        }
      ]
    },
    {
      "cell_type": "code",
      "metadata": {
        "colab": {
          "base_uri": "https://localhost:8080/"
        },
        "id": "ndxVT3t9IPQQ",
        "outputId": "df6fdd57-4751-4bd1-fe9f-5a312f8c823e"
      },
      "source": [
        "df.iloc[8]            # iloc is used to access rows as a series using index as a location"
      ],
      "execution_count": null,
      "outputs": [
        {
          "output_type": "execute_result",
          "data": {
            "text/plain": [
              "Score1   -1.733096\n",
              "Score2   -0.983310\n",
              "Score3    0.357508\n",
              "Score4   -1.613579\n",
              "Score5    1.470714\n",
              "Name: J, dtype: float64"
            ]
          },
          "metadata": {},
          "execution_count": 382
        }
      ]
    },
    {
      "cell_type": "code",
      "metadata": {
        "colab": {
          "base_uri": "https://localhost:8080/"
        },
        "id": "wOQCEUSpIPUM",
        "outputId": "77db3bea-1987-4488-f0e6-4f7ab7ac3abf"
      },
      "source": [
        "df.loc['F', 'Score2']          # selecting subset of rows and columns using loc"
      ],
      "execution_count": null,
      "outputs": [
        {
          "output_type": "execute_result",
          "data": {
            "text/plain": [
              "0.7310003438348087"
            ]
          },
          "metadata": {},
          "execution_count": 383
        }
      ]
    },
    {
      "cell_type": "code",
      "metadata": {
        "colab": {
          "base_uri": "https://localhost:8080/",
          "height": 112
        },
        "id": "lscZB5HsIPZe",
        "outputId": "1e266b07-d073-497f-f0ff-40b05bb38db4"
      },
      "source": [
        "df.loc[['F','D'] , ['Score2', 'Score5']]"
      ],
      "execution_count": null,
      "outputs": [
        {
          "output_type": "execute_result",
          "data": {
            "text/html": [
              "<div>\n",
              "<style scoped>\n",
              "    .dataframe tbody tr th:only-of-type {\n",
              "        vertical-align: middle;\n",
              "    }\n",
              "\n",
              "    .dataframe tbody tr th {\n",
              "        vertical-align: top;\n",
              "    }\n",
              "\n",
              "    .dataframe thead th {\n",
              "        text-align: right;\n",
              "    }\n",
              "</style>\n",
              "<table border=\"1\" class=\"dataframe\">\n",
              "  <thead>\n",
              "    <tr style=\"text-align: right;\">\n",
              "      <th></th>\n",
              "      <th>Score2</th>\n",
              "      <th>Score5</th>\n",
              "    </tr>\n",
              "  </thead>\n",
              "  <tbody>\n",
              "    <tr>\n",
              "      <th>F</th>\n",
              "      <td>0.73100</td>\n",
              "      <td>0.055676</td>\n",
              "    </tr>\n",
              "    <tr>\n",
              "      <th>D</th>\n",
              "      <td>-0.53128</td>\n",
              "      <td>-1.118318</td>\n",
              "    </tr>\n",
              "  </tbody>\n",
              "</table>\n",
              "</div>"
            ],
            "text/plain": [
              "    Score2    Score5\n",
              "F  0.73100  0.055676\n",
              "D -0.53128 -1.118318"
            ]
          },
          "metadata": {},
          "execution_count": 384
        }
      ]
    },
    {
      "cell_type": "code",
      "metadata": {
        "colab": {
          "base_uri": "https://localhost:8080/",
          "height": 332
        },
        "id": "T-2iT1E1IPeP",
        "outputId": "5a4de029-1715-444f-b615-4b6209b520f6"
      },
      "source": [
        "df"
      ],
      "execution_count": null,
      "outputs": [
        {
          "output_type": "execute_result",
          "data": {
            "text/html": [
              "<div>\n",
              "<style scoped>\n",
              "    .dataframe tbody tr th:only-of-type {\n",
              "        vertical-align: middle;\n",
              "    }\n",
              "\n",
              "    .dataframe tbody tr th {\n",
              "        vertical-align: top;\n",
              "    }\n",
              "\n",
              "    .dataframe thead th {\n",
              "        text-align: right;\n",
              "    }\n",
              "</style>\n",
              "<table border=\"1\" class=\"dataframe\">\n",
              "  <thead>\n",
              "    <tr style=\"text-align: right;\">\n",
              "      <th></th>\n",
              "      <th>Score1</th>\n",
              "      <th>Score2</th>\n",
              "      <th>Score3</th>\n",
              "      <th>Score4</th>\n",
              "      <th>Score5</th>\n",
              "    </tr>\n",
              "  </thead>\n",
              "  <tbody>\n",
              "    <tr>\n",
              "      <th>B</th>\n",
              "      <td>0.514219</td>\n",
              "      <td>0.221180</td>\n",
              "      <td>-1.070043</td>\n",
              "      <td>-0.189496</td>\n",
              "      <td>0.255001</td>\n",
              "    </tr>\n",
              "    <tr>\n",
              "      <th>C</th>\n",
              "      <td>-0.458027</td>\n",
              "      <td>0.435163</td>\n",
              "      <td>-0.583595</td>\n",
              "      <td>0.816847</td>\n",
              "      <td>0.672721</td>\n",
              "    </tr>\n",
              "    <tr>\n",
              "      <th>D</th>\n",
              "      <td>-0.104411</td>\n",
              "      <td>-0.531280</td>\n",
              "      <td>1.029733</td>\n",
              "      <td>-0.438136</td>\n",
              "      <td>-1.118318</td>\n",
              "    </tr>\n",
              "    <tr>\n",
              "      <th>E</th>\n",
              "      <td>1.618982</td>\n",
              "      <td>1.541605</td>\n",
              "      <td>-0.251879</td>\n",
              "      <td>-0.842436</td>\n",
              "      <td>0.184519</td>\n",
              "    </tr>\n",
              "    <tr>\n",
              "      <th>F</th>\n",
              "      <td>0.937082</td>\n",
              "      <td>0.731000</td>\n",
              "      <td>1.361556</td>\n",
              "      <td>-0.326238</td>\n",
              "      <td>0.055676</td>\n",
              "    </tr>\n",
              "    <tr>\n",
              "      <th>G</th>\n",
              "      <td>0.222400</td>\n",
              "      <td>-1.443217</td>\n",
              "      <td>-0.756352</td>\n",
              "      <td>0.816454</td>\n",
              "      <td>0.750445</td>\n",
              "    </tr>\n",
              "    <tr>\n",
              "      <th>H</th>\n",
              "      <td>-0.455947</td>\n",
              "      <td>1.189622</td>\n",
              "      <td>-1.690617</td>\n",
              "      <td>-1.356399</td>\n",
              "      <td>-1.232435</td>\n",
              "    </tr>\n",
              "    <tr>\n",
              "      <th>I</th>\n",
              "      <td>-0.544439</td>\n",
              "      <td>-0.668172</td>\n",
              "      <td>0.007315</td>\n",
              "      <td>-0.612939</td>\n",
              "      <td>1.299748</td>\n",
              "    </tr>\n",
              "    <tr>\n",
              "      <th>J</th>\n",
              "      <td>-1.733096</td>\n",
              "      <td>-0.983310</td>\n",
              "      <td>0.357508</td>\n",
              "      <td>-1.613579</td>\n",
              "      <td>1.470714</td>\n",
              "    </tr>\n",
              "  </tbody>\n",
              "</table>\n",
              "</div>"
            ],
            "text/plain": [
              "     Score1    Score2    Score3    Score4    Score5\n",
              "B  0.514219  0.221180 -1.070043 -0.189496  0.255001\n",
              "C -0.458027  0.435163 -0.583595  0.816847  0.672721\n",
              "D -0.104411 -0.531280  1.029733 -0.438136 -1.118318\n",
              "E  1.618982  1.541605 -0.251879 -0.842436  0.184519\n",
              "F  0.937082  0.731000  1.361556 -0.326238  0.055676\n",
              "G  0.222400 -1.443217 -0.756352  0.816454  0.750445\n",
              "H -0.455947  1.189622 -1.690617 -1.356399 -1.232435\n",
              "I -0.544439 -0.668172  0.007315 -0.612939  1.299748\n",
              "J -1.733096 -0.983310  0.357508 -1.613579  1.470714"
            ]
          },
          "metadata": {},
          "execution_count": 385
        }
      ]
    },
    {
      "cell_type": "code",
      "metadata": {
        "colab": {
          "base_uri": "https://localhost:8080/",
          "height": 332
        },
        "id": "ve2jVKl3IPgX",
        "outputId": "8342b2e2-f7c1-43cd-cfb4-a3c6d72ed08a"
      },
      "source": [
        "df>0.5"
      ],
      "execution_count": null,
      "outputs": [
        {
          "output_type": "execute_result",
          "data": {
            "text/html": [
              "<div>\n",
              "<style scoped>\n",
              "    .dataframe tbody tr th:only-of-type {\n",
              "        vertical-align: middle;\n",
              "    }\n",
              "\n",
              "    .dataframe tbody tr th {\n",
              "        vertical-align: top;\n",
              "    }\n",
              "\n",
              "    .dataframe thead th {\n",
              "        text-align: right;\n",
              "    }\n",
              "</style>\n",
              "<table border=\"1\" class=\"dataframe\">\n",
              "  <thead>\n",
              "    <tr style=\"text-align: right;\">\n",
              "      <th></th>\n",
              "      <th>Score1</th>\n",
              "      <th>Score2</th>\n",
              "      <th>Score3</th>\n",
              "      <th>Score4</th>\n",
              "      <th>Score5</th>\n",
              "    </tr>\n",
              "  </thead>\n",
              "  <tbody>\n",
              "    <tr>\n",
              "      <th>B</th>\n",
              "      <td>True</td>\n",
              "      <td>False</td>\n",
              "      <td>False</td>\n",
              "      <td>False</td>\n",
              "      <td>False</td>\n",
              "    </tr>\n",
              "    <tr>\n",
              "      <th>C</th>\n",
              "      <td>False</td>\n",
              "      <td>False</td>\n",
              "      <td>False</td>\n",
              "      <td>True</td>\n",
              "      <td>True</td>\n",
              "    </tr>\n",
              "    <tr>\n",
              "      <th>D</th>\n",
              "      <td>False</td>\n",
              "      <td>False</td>\n",
              "      <td>True</td>\n",
              "      <td>False</td>\n",
              "      <td>False</td>\n",
              "    </tr>\n",
              "    <tr>\n",
              "      <th>E</th>\n",
              "      <td>True</td>\n",
              "      <td>True</td>\n",
              "      <td>False</td>\n",
              "      <td>False</td>\n",
              "      <td>False</td>\n",
              "    </tr>\n",
              "    <tr>\n",
              "      <th>F</th>\n",
              "      <td>True</td>\n",
              "      <td>True</td>\n",
              "      <td>True</td>\n",
              "      <td>False</td>\n",
              "      <td>False</td>\n",
              "    </tr>\n",
              "    <tr>\n",
              "      <th>G</th>\n",
              "      <td>False</td>\n",
              "      <td>False</td>\n",
              "      <td>False</td>\n",
              "      <td>True</td>\n",
              "      <td>True</td>\n",
              "    </tr>\n",
              "    <tr>\n",
              "      <th>H</th>\n",
              "      <td>False</td>\n",
              "      <td>True</td>\n",
              "      <td>False</td>\n",
              "      <td>False</td>\n",
              "      <td>False</td>\n",
              "    </tr>\n",
              "    <tr>\n",
              "      <th>I</th>\n",
              "      <td>False</td>\n",
              "      <td>False</td>\n",
              "      <td>False</td>\n",
              "      <td>False</td>\n",
              "      <td>True</td>\n",
              "    </tr>\n",
              "    <tr>\n",
              "      <th>J</th>\n",
              "      <td>False</td>\n",
              "      <td>False</td>\n",
              "      <td>False</td>\n",
              "      <td>False</td>\n",
              "      <td>True</td>\n",
              "    </tr>\n",
              "  </tbody>\n",
              "</table>\n",
              "</div>"
            ],
            "text/plain": [
              "   Score1  Score2  Score3  Score4  Score5\n",
              "B    True   False   False   False   False\n",
              "C   False   False   False    True    True\n",
              "D   False   False    True   False   False\n",
              "E    True    True   False   False   False\n",
              "F    True    True    True   False   False\n",
              "G   False   False   False    True    True\n",
              "H   False    True   False   False   False\n",
              "I   False   False   False   False    True\n",
              "J   False   False   False   False    True"
            ]
          },
          "metadata": {},
          "execution_count": 386
        }
      ]
    },
    {
      "cell_type": "code",
      "metadata": {
        "colab": {
          "base_uri": "https://localhost:8080/",
          "height": 332
        },
        "id": "Uua2lpzyIPid",
        "outputId": "c5d20bb3-ff76-4cac-cdbf-06874cacf69c"
      },
      "source": [
        "df[df>0.5]"
      ],
      "execution_count": null,
      "outputs": [
        {
          "output_type": "execute_result",
          "data": {
            "text/html": [
              "<div>\n",
              "<style scoped>\n",
              "    .dataframe tbody tr th:only-of-type {\n",
              "        vertical-align: middle;\n",
              "    }\n",
              "\n",
              "    .dataframe tbody tr th {\n",
              "        vertical-align: top;\n",
              "    }\n",
              "\n",
              "    .dataframe thead th {\n",
              "        text-align: right;\n",
              "    }\n",
              "</style>\n",
              "<table border=\"1\" class=\"dataframe\">\n",
              "  <thead>\n",
              "    <tr style=\"text-align: right;\">\n",
              "      <th></th>\n",
              "      <th>Score1</th>\n",
              "      <th>Score2</th>\n",
              "      <th>Score3</th>\n",
              "      <th>Score4</th>\n",
              "      <th>Score5</th>\n",
              "    </tr>\n",
              "  </thead>\n",
              "  <tbody>\n",
              "    <tr>\n",
              "      <th>B</th>\n",
              "      <td>0.514219</td>\n",
              "      <td>NaN</td>\n",
              "      <td>NaN</td>\n",
              "      <td>NaN</td>\n",
              "      <td>NaN</td>\n",
              "    </tr>\n",
              "    <tr>\n",
              "      <th>C</th>\n",
              "      <td>NaN</td>\n",
              "      <td>NaN</td>\n",
              "      <td>NaN</td>\n",
              "      <td>0.816847</td>\n",
              "      <td>0.672721</td>\n",
              "    </tr>\n",
              "    <tr>\n",
              "      <th>D</th>\n",
              "      <td>NaN</td>\n",
              "      <td>NaN</td>\n",
              "      <td>1.029733</td>\n",
              "      <td>NaN</td>\n",
              "      <td>NaN</td>\n",
              "    </tr>\n",
              "    <tr>\n",
              "      <th>E</th>\n",
              "      <td>1.618982</td>\n",
              "      <td>1.541605</td>\n",
              "      <td>NaN</td>\n",
              "      <td>NaN</td>\n",
              "      <td>NaN</td>\n",
              "    </tr>\n",
              "    <tr>\n",
              "      <th>F</th>\n",
              "      <td>0.937082</td>\n",
              "      <td>0.731000</td>\n",
              "      <td>1.361556</td>\n",
              "      <td>NaN</td>\n",
              "      <td>NaN</td>\n",
              "    </tr>\n",
              "    <tr>\n",
              "      <th>G</th>\n",
              "      <td>NaN</td>\n",
              "      <td>NaN</td>\n",
              "      <td>NaN</td>\n",
              "      <td>0.816454</td>\n",
              "      <td>0.750445</td>\n",
              "    </tr>\n",
              "    <tr>\n",
              "      <th>H</th>\n",
              "      <td>NaN</td>\n",
              "      <td>1.189622</td>\n",
              "      <td>NaN</td>\n",
              "      <td>NaN</td>\n",
              "      <td>NaN</td>\n",
              "    </tr>\n",
              "    <tr>\n",
              "      <th>I</th>\n",
              "      <td>NaN</td>\n",
              "      <td>NaN</td>\n",
              "      <td>NaN</td>\n",
              "      <td>NaN</td>\n",
              "      <td>1.299748</td>\n",
              "    </tr>\n",
              "    <tr>\n",
              "      <th>J</th>\n",
              "      <td>NaN</td>\n",
              "      <td>NaN</td>\n",
              "      <td>NaN</td>\n",
              "      <td>NaN</td>\n",
              "      <td>1.470714</td>\n",
              "    </tr>\n",
              "  </tbody>\n",
              "</table>\n",
              "</div>"
            ],
            "text/plain": [
              "     Score1    Score2    Score3    Score4    Score5\n",
              "B  0.514219       NaN       NaN       NaN       NaN\n",
              "C       NaN       NaN       NaN  0.816847  0.672721\n",
              "D       NaN       NaN  1.029733       NaN       NaN\n",
              "E  1.618982  1.541605       NaN       NaN       NaN\n",
              "F  0.937082  0.731000  1.361556       NaN       NaN\n",
              "G       NaN       NaN       NaN  0.816454  0.750445\n",
              "H       NaN  1.189622       NaN       NaN       NaN\n",
              "I       NaN       NaN       NaN       NaN  1.299748\n",
              "J       NaN       NaN       NaN       NaN  1.470714"
            ]
          },
          "metadata": {},
          "execution_count": 387
        }
      ]
    },
    {
      "cell_type": "code",
      "metadata": {
        "colab": {
          "base_uri": "https://localhost:8080/",
          "height": 143
        },
        "id": "VlWsdt15IPm_",
        "outputId": "37e45d97-80a2-4b10-945c-ec52e846c60c"
      },
      "source": [
        "df[df.Score1 > 0.5]"
      ],
      "execution_count": null,
      "outputs": [
        {
          "output_type": "execute_result",
          "data": {
            "text/html": [
              "<div>\n",
              "<style scoped>\n",
              "    .dataframe tbody tr th:only-of-type {\n",
              "        vertical-align: middle;\n",
              "    }\n",
              "\n",
              "    .dataframe tbody tr th {\n",
              "        vertical-align: top;\n",
              "    }\n",
              "\n",
              "    .dataframe thead th {\n",
              "        text-align: right;\n",
              "    }\n",
              "</style>\n",
              "<table border=\"1\" class=\"dataframe\">\n",
              "  <thead>\n",
              "    <tr style=\"text-align: right;\">\n",
              "      <th></th>\n",
              "      <th>Score1</th>\n",
              "      <th>Score2</th>\n",
              "      <th>Score3</th>\n",
              "      <th>Score4</th>\n",
              "      <th>Score5</th>\n",
              "    </tr>\n",
              "  </thead>\n",
              "  <tbody>\n",
              "    <tr>\n",
              "      <th>B</th>\n",
              "      <td>0.514219</td>\n",
              "      <td>0.221180</td>\n",
              "      <td>-1.070043</td>\n",
              "      <td>-0.189496</td>\n",
              "      <td>0.255001</td>\n",
              "    </tr>\n",
              "    <tr>\n",
              "      <th>E</th>\n",
              "      <td>1.618982</td>\n",
              "      <td>1.541605</td>\n",
              "      <td>-0.251879</td>\n",
              "      <td>-0.842436</td>\n",
              "      <td>0.184519</td>\n",
              "    </tr>\n",
              "    <tr>\n",
              "      <th>F</th>\n",
              "      <td>0.937082</td>\n",
              "      <td>0.731000</td>\n",
              "      <td>1.361556</td>\n",
              "      <td>-0.326238</td>\n",
              "      <td>0.055676</td>\n",
              "    </tr>\n",
              "  </tbody>\n",
              "</table>\n",
              "</div>"
            ],
            "text/plain": [
              "     Score1    Score2    Score3    Score4    Score5\n",
              "B  0.514219  0.221180 -1.070043 -0.189496  0.255001\n",
              "E  1.618982  1.541605 -0.251879 -0.842436  0.184519\n",
              "F  0.937082  0.731000  1.361556 -0.326238  0.055676"
            ]
          },
          "metadata": {},
          "execution_count": 388
        }
      ]
    },
    {
      "cell_type": "code",
      "metadata": {
        "colab": {
          "base_uri": "https://localhost:8080/"
        },
        "id": "zFEvsIruN8aP",
        "outputId": "b617fdfc-5d75-41b1-caba-f1757bf2ad44"
      },
      "source": [
        "df[df.Score1 > 0.5]['Score2']"
      ],
      "execution_count": null,
      "outputs": [
        {
          "output_type": "execute_result",
          "data": {
            "text/plain": [
              "B    0.221180\n",
              "E    1.541605\n",
              "F    0.731000\n",
              "Name: Score2, dtype: float64"
            ]
          },
          "metadata": {},
          "execution_count": 389
        }
      ]
    },
    {
      "cell_type": "code",
      "metadata": {
        "id": "Q3AMRG7dN-EI",
        "colab": {
          "base_uri": "https://localhost:8080/",
          "height": 332
        },
        "outputId": "74f031d0-14a5-4ffd-fdb1-0852c9817572"
      },
      "source": [
        "df.reset_index()"
      ],
      "execution_count": null,
      "outputs": [
        {
          "output_type": "execute_result",
          "data": {
            "text/html": [
              "<div>\n",
              "<style scoped>\n",
              "    .dataframe tbody tr th:only-of-type {\n",
              "        vertical-align: middle;\n",
              "    }\n",
              "\n",
              "    .dataframe tbody tr th {\n",
              "        vertical-align: top;\n",
              "    }\n",
              "\n",
              "    .dataframe thead th {\n",
              "        text-align: right;\n",
              "    }\n",
              "</style>\n",
              "<table border=\"1\" class=\"dataframe\">\n",
              "  <thead>\n",
              "    <tr style=\"text-align: right;\">\n",
              "      <th></th>\n",
              "      <th>index</th>\n",
              "      <th>Score1</th>\n",
              "      <th>Score2</th>\n",
              "      <th>Score3</th>\n",
              "      <th>Score4</th>\n",
              "      <th>Score5</th>\n",
              "    </tr>\n",
              "  </thead>\n",
              "  <tbody>\n",
              "    <tr>\n",
              "      <th>0</th>\n",
              "      <td>B</td>\n",
              "      <td>0.514219</td>\n",
              "      <td>0.221180</td>\n",
              "      <td>-1.070043</td>\n",
              "      <td>-0.189496</td>\n",
              "      <td>0.255001</td>\n",
              "    </tr>\n",
              "    <tr>\n",
              "      <th>1</th>\n",
              "      <td>C</td>\n",
              "      <td>-0.458027</td>\n",
              "      <td>0.435163</td>\n",
              "      <td>-0.583595</td>\n",
              "      <td>0.816847</td>\n",
              "      <td>0.672721</td>\n",
              "    </tr>\n",
              "    <tr>\n",
              "      <th>2</th>\n",
              "      <td>D</td>\n",
              "      <td>-0.104411</td>\n",
              "      <td>-0.531280</td>\n",
              "      <td>1.029733</td>\n",
              "      <td>-0.438136</td>\n",
              "      <td>-1.118318</td>\n",
              "    </tr>\n",
              "    <tr>\n",
              "      <th>3</th>\n",
              "      <td>E</td>\n",
              "      <td>1.618982</td>\n",
              "      <td>1.541605</td>\n",
              "      <td>-0.251879</td>\n",
              "      <td>-0.842436</td>\n",
              "      <td>0.184519</td>\n",
              "    </tr>\n",
              "    <tr>\n",
              "      <th>4</th>\n",
              "      <td>F</td>\n",
              "      <td>0.937082</td>\n",
              "      <td>0.731000</td>\n",
              "      <td>1.361556</td>\n",
              "      <td>-0.326238</td>\n",
              "      <td>0.055676</td>\n",
              "    </tr>\n",
              "    <tr>\n",
              "      <th>5</th>\n",
              "      <td>G</td>\n",
              "      <td>0.222400</td>\n",
              "      <td>-1.443217</td>\n",
              "      <td>-0.756352</td>\n",
              "      <td>0.816454</td>\n",
              "      <td>0.750445</td>\n",
              "    </tr>\n",
              "    <tr>\n",
              "      <th>6</th>\n",
              "      <td>H</td>\n",
              "      <td>-0.455947</td>\n",
              "      <td>1.189622</td>\n",
              "      <td>-1.690617</td>\n",
              "      <td>-1.356399</td>\n",
              "      <td>-1.232435</td>\n",
              "    </tr>\n",
              "    <tr>\n",
              "      <th>7</th>\n",
              "      <td>I</td>\n",
              "      <td>-0.544439</td>\n",
              "      <td>-0.668172</td>\n",
              "      <td>0.007315</td>\n",
              "      <td>-0.612939</td>\n",
              "      <td>1.299748</td>\n",
              "    </tr>\n",
              "    <tr>\n",
              "      <th>8</th>\n",
              "      <td>J</td>\n",
              "      <td>-1.733096</td>\n",
              "      <td>-0.983310</td>\n",
              "      <td>0.357508</td>\n",
              "      <td>-1.613579</td>\n",
              "      <td>1.470714</td>\n",
              "    </tr>\n",
              "  </tbody>\n",
              "</table>\n",
              "</div>"
            ],
            "text/plain": [
              "  index    Score1    Score2    Score3    Score4    Score5\n",
              "0     B  0.514219  0.221180 -1.070043 -0.189496  0.255001\n",
              "1     C -0.458027  0.435163 -0.583595  0.816847  0.672721\n",
              "2     D -0.104411 -0.531280  1.029733 -0.438136 -1.118318\n",
              "3     E  1.618982  1.541605 -0.251879 -0.842436  0.184519\n",
              "4     F  0.937082  0.731000  1.361556 -0.326238  0.055676\n",
              "5     G  0.222400 -1.443217 -0.756352  0.816454  0.750445\n",
              "6     H -0.455947  1.189622 -1.690617 -1.356399 -1.232435\n",
              "7     I -0.544439 -0.668172  0.007315 -0.612939  1.299748\n",
              "8     J -1.733096 -0.983310  0.357508 -1.613579  1.470714"
            ]
          },
          "metadata": {},
          "execution_count": 390
        }
      ]
    },
    {
      "cell_type": "code",
      "metadata": {
        "id": "uMUaj7laN-d4",
        "colab": {
          "base_uri": "https://localhost:8080/"
        },
        "outputId": "4f8ded45-ef03-4552-d711-017316571b1c"
      },
      "source": [
        "# setting the new index\n",
        "\n",
        "newindex = 'bn mn kk jh mh gh hn jh jf'.split()\n",
        "newindex\n"
      ],
      "execution_count": null,
      "outputs": [
        {
          "output_type": "execute_result",
          "data": {
            "text/plain": [
              "['bn', 'mn', 'kk', 'jh', 'mh', 'gh', 'hn', 'jh', 'jf']"
            ]
          },
          "metadata": {},
          "execution_count": 391
        }
      ]
    },
    {
      "cell_type": "code",
      "metadata": {
        "id": "Ro_y-ZZeN-y6"
      },
      "source": [
        "df['Countries'] = newindex"
      ],
      "execution_count": null,
      "outputs": []
    },
    {
      "cell_type": "code",
      "metadata": {
        "id": "IUDW5h0IN-7T",
        "colab": {
          "base_uri": "https://localhost:8080/",
          "height": 332
        },
        "outputId": "31e71371-035f-4667-ea7c-dd20dccb26e3"
      },
      "source": [
        "df"
      ],
      "execution_count": null,
      "outputs": [
        {
          "output_type": "execute_result",
          "data": {
            "text/html": [
              "<div>\n",
              "<style scoped>\n",
              "    .dataframe tbody tr th:only-of-type {\n",
              "        vertical-align: middle;\n",
              "    }\n",
              "\n",
              "    .dataframe tbody tr th {\n",
              "        vertical-align: top;\n",
              "    }\n",
              "\n",
              "    .dataframe thead th {\n",
              "        text-align: right;\n",
              "    }\n",
              "</style>\n",
              "<table border=\"1\" class=\"dataframe\">\n",
              "  <thead>\n",
              "    <tr style=\"text-align: right;\">\n",
              "      <th></th>\n",
              "      <th>Score1</th>\n",
              "      <th>Score2</th>\n",
              "      <th>Score3</th>\n",
              "      <th>Score4</th>\n",
              "      <th>Score5</th>\n",
              "      <th>Countries</th>\n",
              "    </tr>\n",
              "  </thead>\n",
              "  <tbody>\n",
              "    <tr>\n",
              "      <th>B</th>\n",
              "      <td>0.514219</td>\n",
              "      <td>0.221180</td>\n",
              "      <td>-1.070043</td>\n",
              "      <td>-0.189496</td>\n",
              "      <td>0.255001</td>\n",
              "      <td>bn</td>\n",
              "    </tr>\n",
              "    <tr>\n",
              "      <th>C</th>\n",
              "      <td>-0.458027</td>\n",
              "      <td>0.435163</td>\n",
              "      <td>-0.583595</td>\n",
              "      <td>0.816847</td>\n",
              "      <td>0.672721</td>\n",
              "      <td>mn</td>\n",
              "    </tr>\n",
              "    <tr>\n",
              "      <th>D</th>\n",
              "      <td>-0.104411</td>\n",
              "      <td>-0.531280</td>\n",
              "      <td>1.029733</td>\n",
              "      <td>-0.438136</td>\n",
              "      <td>-1.118318</td>\n",
              "      <td>kk</td>\n",
              "    </tr>\n",
              "    <tr>\n",
              "      <th>E</th>\n",
              "      <td>1.618982</td>\n",
              "      <td>1.541605</td>\n",
              "      <td>-0.251879</td>\n",
              "      <td>-0.842436</td>\n",
              "      <td>0.184519</td>\n",
              "      <td>jh</td>\n",
              "    </tr>\n",
              "    <tr>\n",
              "      <th>F</th>\n",
              "      <td>0.937082</td>\n",
              "      <td>0.731000</td>\n",
              "      <td>1.361556</td>\n",
              "      <td>-0.326238</td>\n",
              "      <td>0.055676</td>\n",
              "      <td>mh</td>\n",
              "    </tr>\n",
              "    <tr>\n",
              "      <th>G</th>\n",
              "      <td>0.222400</td>\n",
              "      <td>-1.443217</td>\n",
              "      <td>-0.756352</td>\n",
              "      <td>0.816454</td>\n",
              "      <td>0.750445</td>\n",
              "      <td>gh</td>\n",
              "    </tr>\n",
              "    <tr>\n",
              "      <th>H</th>\n",
              "      <td>-0.455947</td>\n",
              "      <td>1.189622</td>\n",
              "      <td>-1.690617</td>\n",
              "      <td>-1.356399</td>\n",
              "      <td>-1.232435</td>\n",
              "      <td>hn</td>\n",
              "    </tr>\n",
              "    <tr>\n",
              "      <th>I</th>\n",
              "      <td>-0.544439</td>\n",
              "      <td>-0.668172</td>\n",
              "      <td>0.007315</td>\n",
              "      <td>-0.612939</td>\n",
              "      <td>1.299748</td>\n",
              "      <td>jh</td>\n",
              "    </tr>\n",
              "    <tr>\n",
              "      <th>J</th>\n",
              "      <td>-1.733096</td>\n",
              "      <td>-0.983310</td>\n",
              "      <td>0.357508</td>\n",
              "      <td>-1.613579</td>\n",
              "      <td>1.470714</td>\n",
              "      <td>jf</td>\n",
              "    </tr>\n",
              "  </tbody>\n",
              "</table>\n",
              "</div>"
            ],
            "text/plain": [
              "     Score1    Score2    Score3    Score4    Score5 Countries\n",
              "B  0.514219  0.221180 -1.070043 -0.189496  0.255001        bn\n",
              "C -0.458027  0.435163 -0.583595  0.816847  0.672721        mn\n",
              "D -0.104411 -0.531280  1.029733 -0.438136 -1.118318        kk\n",
              "E  1.618982  1.541605 -0.251879 -0.842436  0.184519        jh\n",
              "F  0.937082  0.731000  1.361556 -0.326238  0.055676        mh\n",
              "G  0.222400 -1.443217 -0.756352  0.816454  0.750445        gh\n",
              "H -0.455947  1.189622 -1.690617 -1.356399 -1.232435        hn\n",
              "I -0.544439 -0.668172  0.007315 -0.612939  1.299748        jh\n",
              "J -1.733096 -0.983310  0.357508 -1.613579  1.470714        jf"
            ]
          },
          "metadata": {},
          "execution_count": 393
        }
      ]
    },
    {
      "cell_type": "code",
      "metadata": {
        "id": "H4ovhhQqOA8d",
        "colab": {
          "base_uri": "https://localhost:8080/",
          "height": 363
        },
        "outputId": "2981c4d2-da05-48ac-a9a2-5009118da597"
      },
      "source": [
        "df.set_index('Countries')"
      ],
      "execution_count": null,
      "outputs": [
        {
          "output_type": "execute_result",
          "data": {
            "text/html": [
              "<div>\n",
              "<style scoped>\n",
              "    .dataframe tbody tr th:only-of-type {\n",
              "        vertical-align: middle;\n",
              "    }\n",
              "\n",
              "    .dataframe tbody tr th {\n",
              "        vertical-align: top;\n",
              "    }\n",
              "\n",
              "    .dataframe thead th {\n",
              "        text-align: right;\n",
              "    }\n",
              "</style>\n",
              "<table border=\"1\" class=\"dataframe\">\n",
              "  <thead>\n",
              "    <tr style=\"text-align: right;\">\n",
              "      <th></th>\n",
              "      <th>Score1</th>\n",
              "      <th>Score2</th>\n",
              "      <th>Score3</th>\n",
              "      <th>Score4</th>\n",
              "      <th>Score5</th>\n",
              "    </tr>\n",
              "    <tr>\n",
              "      <th>Countries</th>\n",
              "      <th></th>\n",
              "      <th></th>\n",
              "      <th></th>\n",
              "      <th></th>\n",
              "      <th></th>\n",
              "    </tr>\n",
              "  </thead>\n",
              "  <tbody>\n",
              "    <tr>\n",
              "      <th>bn</th>\n",
              "      <td>0.514219</td>\n",
              "      <td>0.221180</td>\n",
              "      <td>-1.070043</td>\n",
              "      <td>-0.189496</td>\n",
              "      <td>0.255001</td>\n",
              "    </tr>\n",
              "    <tr>\n",
              "      <th>mn</th>\n",
              "      <td>-0.458027</td>\n",
              "      <td>0.435163</td>\n",
              "      <td>-0.583595</td>\n",
              "      <td>0.816847</td>\n",
              "      <td>0.672721</td>\n",
              "    </tr>\n",
              "    <tr>\n",
              "      <th>kk</th>\n",
              "      <td>-0.104411</td>\n",
              "      <td>-0.531280</td>\n",
              "      <td>1.029733</td>\n",
              "      <td>-0.438136</td>\n",
              "      <td>-1.118318</td>\n",
              "    </tr>\n",
              "    <tr>\n",
              "      <th>jh</th>\n",
              "      <td>1.618982</td>\n",
              "      <td>1.541605</td>\n",
              "      <td>-0.251879</td>\n",
              "      <td>-0.842436</td>\n",
              "      <td>0.184519</td>\n",
              "    </tr>\n",
              "    <tr>\n",
              "      <th>mh</th>\n",
              "      <td>0.937082</td>\n",
              "      <td>0.731000</td>\n",
              "      <td>1.361556</td>\n",
              "      <td>-0.326238</td>\n",
              "      <td>0.055676</td>\n",
              "    </tr>\n",
              "    <tr>\n",
              "      <th>gh</th>\n",
              "      <td>0.222400</td>\n",
              "      <td>-1.443217</td>\n",
              "      <td>-0.756352</td>\n",
              "      <td>0.816454</td>\n",
              "      <td>0.750445</td>\n",
              "    </tr>\n",
              "    <tr>\n",
              "      <th>hn</th>\n",
              "      <td>-0.455947</td>\n",
              "      <td>1.189622</td>\n",
              "      <td>-1.690617</td>\n",
              "      <td>-1.356399</td>\n",
              "      <td>-1.232435</td>\n",
              "    </tr>\n",
              "    <tr>\n",
              "      <th>jh</th>\n",
              "      <td>-0.544439</td>\n",
              "      <td>-0.668172</td>\n",
              "      <td>0.007315</td>\n",
              "      <td>-0.612939</td>\n",
              "      <td>1.299748</td>\n",
              "    </tr>\n",
              "    <tr>\n",
              "      <th>jf</th>\n",
              "      <td>-1.733096</td>\n",
              "      <td>-0.983310</td>\n",
              "      <td>0.357508</td>\n",
              "      <td>-1.613579</td>\n",
              "      <td>1.470714</td>\n",
              "    </tr>\n",
              "  </tbody>\n",
              "</table>\n",
              "</div>"
            ],
            "text/plain": [
              "             Score1    Score2    Score3    Score4    Score5\n",
              "Countries                                                  \n",
              "bn         0.514219  0.221180 -1.070043 -0.189496  0.255001\n",
              "mn        -0.458027  0.435163 -0.583595  0.816847  0.672721\n",
              "kk        -0.104411 -0.531280  1.029733 -0.438136 -1.118318\n",
              "jh         1.618982  1.541605 -0.251879 -0.842436  0.184519\n",
              "mh         0.937082  0.731000  1.361556 -0.326238  0.055676\n",
              "gh         0.222400 -1.443217 -0.756352  0.816454  0.750445\n",
              "hn        -0.455947  1.189622 -1.690617 -1.356399 -1.232435\n",
              "jh        -0.544439 -0.668172  0.007315 -0.612939  1.299748\n",
              "jf        -1.733096 -0.983310  0.357508 -1.613579  1.470714"
            ]
          },
          "metadata": {},
          "execution_count": 394
        }
      ]
    },
    {
      "cell_type": "code",
      "metadata": {
        "id": "e4RkCgqcOBIY",
        "colab": {
          "base_uri": "https://localhost:8080/",
          "height": 332
        },
        "outputId": "443c8874-bcf8-418f-b474-8a7b081c47ad"
      },
      "source": [
        "df"
      ],
      "execution_count": null,
      "outputs": [
        {
          "output_type": "execute_result",
          "data": {
            "text/html": [
              "<div>\n",
              "<style scoped>\n",
              "    .dataframe tbody tr th:only-of-type {\n",
              "        vertical-align: middle;\n",
              "    }\n",
              "\n",
              "    .dataframe tbody tr th {\n",
              "        vertical-align: top;\n",
              "    }\n",
              "\n",
              "    .dataframe thead th {\n",
              "        text-align: right;\n",
              "    }\n",
              "</style>\n",
              "<table border=\"1\" class=\"dataframe\">\n",
              "  <thead>\n",
              "    <tr style=\"text-align: right;\">\n",
              "      <th></th>\n",
              "      <th>Score1</th>\n",
              "      <th>Score2</th>\n",
              "      <th>Score3</th>\n",
              "      <th>Score4</th>\n",
              "      <th>Score5</th>\n",
              "      <th>Countries</th>\n",
              "    </tr>\n",
              "  </thead>\n",
              "  <tbody>\n",
              "    <tr>\n",
              "      <th>B</th>\n",
              "      <td>0.514219</td>\n",
              "      <td>0.221180</td>\n",
              "      <td>-1.070043</td>\n",
              "      <td>-0.189496</td>\n",
              "      <td>0.255001</td>\n",
              "      <td>bn</td>\n",
              "    </tr>\n",
              "    <tr>\n",
              "      <th>C</th>\n",
              "      <td>-0.458027</td>\n",
              "      <td>0.435163</td>\n",
              "      <td>-0.583595</td>\n",
              "      <td>0.816847</td>\n",
              "      <td>0.672721</td>\n",
              "      <td>mn</td>\n",
              "    </tr>\n",
              "    <tr>\n",
              "      <th>D</th>\n",
              "      <td>-0.104411</td>\n",
              "      <td>-0.531280</td>\n",
              "      <td>1.029733</td>\n",
              "      <td>-0.438136</td>\n",
              "      <td>-1.118318</td>\n",
              "      <td>kk</td>\n",
              "    </tr>\n",
              "    <tr>\n",
              "      <th>E</th>\n",
              "      <td>1.618982</td>\n",
              "      <td>1.541605</td>\n",
              "      <td>-0.251879</td>\n",
              "      <td>-0.842436</td>\n",
              "      <td>0.184519</td>\n",
              "      <td>jh</td>\n",
              "    </tr>\n",
              "    <tr>\n",
              "      <th>F</th>\n",
              "      <td>0.937082</td>\n",
              "      <td>0.731000</td>\n",
              "      <td>1.361556</td>\n",
              "      <td>-0.326238</td>\n",
              "      <td>0.055676</td>\n",
              "      <td>mh</td>\n",
              "    </tr>\n",
              "    <tr>\n",
              "      <th>G</th>\n",
              "      <td>0.222400</td>\n",
              "      <td>-1.443217</td>\n",
              "      <td>-0.756352</td>\n",
              "      <td>0.816454</td>\n",
              "      <td>0.750445</td>\n",
              "      <td>gh</td>\n",
              "    </tr>\n",
              "    <tr>\n",
              "      <th>H</th>\n",
              "      <td>-0.455947</td>\n",
              "      <td>1.189622</td>\n",
              "      <td>-1.690617</td>\n",
              "      <td>-1.356399</td>\n",
              "      <td>-1.232435</td>\n",
              "      <td>hn</td>\n",
              "    </tr>\n",
              "    <tr>\n",
              "      <th>I</th>\n",
              "      <td>-0.544439</td>\n",
              "      <td>-0.668172</td>\n",
              "      <td>0.007315</td>\n",
              "      <td>-0.612939</td>\n",
              "      <td>1.299748</td>\n",
              "      <td>jh</td>\n",
              "    </tr>\n",
              "    <tr>\n",
              "      <th>J</th>\n",
              "      <td>-1.733096</td>\n",
              "      <td>-0.983310</td>\n",
              "      <td>0.357508</td>\n",
              "      <td>-1.613579</td>\n",
              "      <td>1.470714</td>\n",
              "      <td>jf</td>\n",
              "    </tr>\n",
              "  </tbody>\n",
              "</table>\n",
              "</div>"
            ],
            "text/plain": [
              "     Score1    Score2    Score3    Score4    Score5 Countries\n",
              "B  0.514219  0.221180 -1.070043 -0.189496  0.255001        bn\n",
              "C -0.458027  0.435163 -0.583595  0.816847  0.672721        mn\n",
              "D -0.104411 -0.531280  1.029733 -0.438136 -1.118318        kk\n",
              "E  1.618982  1.541605 -0.251879 -0.842436  0.184519        jh\n",
              "F  0.937082  0.731000  1.361556 -0.326238  0.055676        mh\n",
              "G  0.222400 -1.443217 -0.756352  0.816454  0.750445        gh\n",
              "H -0.455947  1.189622 -1.690617 -1.356399 -1.232435        hn\n",
              "I -0.544439 -0.668172  0.007315 -0.612939  1.299748        jh\n",
              "J -1.733096 -0.983310  0.357508 -1.613579  1.470714        jf"
            ]
          },
          "metadata": {},
          "execution_count": 395
        }
      ]
    },
    {
      "cell_type": "code",
      "metadata": {
        "id": "iskckbcMOBTZ"
      },
      "source": [
        "df.set_index('Countries', inplace = True)"
      ],
      "execution_count": null,
      "outputs": []
    },
    {
      "cell_type": "code",
      "metadata": {
        "id": "P6oOEA1zOBeN",
        "colab": {
          "base_uri": "https://localhost:8080/",
          "height": 363
        },
        "outputId": "6279ea01-4fb9-4882-da10-83b63a74be8d"
      },
      "source": [
        "df"
      ],
      "execution_count": null,
      "outputs": [
        {
          "output_type": "execute_result",
          "data": {
            "text/html": [
              "<div>\n",
              "<style scoped>\n",
              "    .dataframe tbody tr th:only-of-type {\n",
              "        vertical-align: middle;\n",
              "    }\n",
              "\n",
              "    .dataframe tbody tr th {\n",
              "        vertical-align: top;\n",
              "    }\n",
              "\n",
              "    .dataframe thead th {\n",
              "        text-align: right;\n",
              "    }\n",
              "</style>\n",
              "<table border=\"1\" class=\"dataframe\">\n",
              "  <thead>\n",
              "    <tr style=\"text-align: right;\">\n",
              "      <th></th>\n",
              "      <th>Score1</th>\n",
              "      <th>Score2</th>\n",
              "      <th>Score3</th>\n",
              "      <th>Score4</th>\n",
              "      <th>Score5</th>\n",
              "    </tr>\n",
              "    <tr>\n",
              "      <th>Countries</th>\n",
              "      <th></th>\n",
              "      <th></th>\n",
              "      <th></th>\n",
              "      <th></th>\n",
              "      <th></th>\n",
              "    </tr>\n",
              "  </thead>\n",
              "  <tbody>\n",
              "    <tr>\n",
              "      <th>bn</th>\n",
              "      <td>0.514219</td>\n",
              "      <td>0.221180</td>\n",
              "      <td>-1.070043</td>\n",
              "      <td>-0.189496</td>\n",
              "      <td>0.255001</td>\n",
              "    </tr>\n",
              "    <tr>\n",
              "      <th>mn</th>\n",
              "      <td>-0.458027</td>\n",
              "      <td>0.435163</td>\n",
              "      <td>-0.583595</td>\n",
              "      <td>0.816847</td>\n",
              "      <td>0.672721</td>\n",
              "    </tr>\n",
              "    <tr>\n",
              "      <th>kk</th>\n",
              "      <td>-0.104411</td>\n",
              "      <td>-0.531280</td>\n",
              "      <td>1.029733</td>\n",
              "      <td>-0.438136</td>\n",
              "      <td>-1.118318</td>\n",
              "    </tr>\n",
              "    <tr>\n",
              "      <th>jh</th>\n",
              "      <td>1.618982</td>\n",
              "      <td>1.541605</td>\n",
              "      <td>-0.251879</td>\n",
              "      <td>-0.842436</td>\n",
              "      <td>0.184519</td>\n",
              "    </tr>\n",
              "    <tr>\n",
              "      <th>mh</th>\n",
              "      <td>0.937082</td>\n",
              "      <td>0.731000</td>\n",
              "      <td>1.361556</td>\n",
              "      <td>-0.326238</td>\n",
              "      <td>0.055676</td>\n",
              "    </tr>\n",
              "    <tr>\n",
              "      <th>gh</th>\n",
              "      <td>0.222400</td>\n",
              "      <td>-1.443217</td>\n",
              "      <td>-0.756352</td>\n",
              "      <td>0.816454</td>\n",
              "      <td>0.750445</td>\n",
              "    </tr>\n",
              "    <tr>\n",
              "      <th>hn</th>\n",
              "      <td>-0.455947</td>\n",
              "      <td>1.189622</td>\n",
              "      <td>-1.690617</td>\n",
              "      <td>-1.356399</td>\n",
              "      <td>-1.232435</td>\n",
              "    </tr>\n",
              "    <tr>\n",
              "      <th>jh</th>\n",
              "      <td>-0.544439</td>\n",
              "      <td>-0.668172</td>\n",
              "      <td>0.007315</td>\n",
              "      <td>-0.612939</td>\n",
              "      <td>1.299748</td>\n",
              "    </tr>\n",
              "    <tr>\n",
              "      <th>jf</th>\n",
              "      <td>-1.733096</td>\n",
              "      <td>-0.983310</td>\n",
              "      <td>0.357508</td>\n",
              "      <td>-1.613579</td>\n",
              "      <td>1.470714</td>\n",
              "    </tr>\n",
              "  </tbody>\n",
              "</table>\n",
              "</div>"
            ],
            "text/plain": [
              "             Score1    Score2    Score3    Score4    Score5\n",
              "Countries                                                  \n",
              "bn         0.514219  0.221180 -1.070043 -0.189496  0.255001\n",
              "mn        -0.458027  0.435163 -0.583595  0.816847  0.672721\n",
              "kk        -0.104411 -0.531280  1.029733 -0.438136 -1.118318\n",
              "jh         1.618982  1.541605 -0.251879 -0.842436  0.184519\n",
              "mh         0.937082  0.731000  1.361556 -0.326238  0.055676\n",
              "gh         0.222400 -1.443217 -0.756352  0.816454  0.750445\n",
              "hn        -0.455947  1.189622 -1.690617 -1.356399 -1.232435\n",
              "jh        -0.544439 -0.668172  0.007315 -0.612939  1.299748\n",
              "jf        -1.733096 -0.983310  0.357508 -1.613579  1.470714"
            ]
          },
          "metadata": {},
          "execution_count": 397
        }
      ]
    },
    {
      "cell_type": "markdown",
      "metadata": {
        "id": "nRKwkc-POB_x"
      },
      "source": [
        "## Methods to deal with missed data"
      ]
    },
    {
      "cell_type": "code",
      "metadata": {
        "id": "KCPYZRQO_XIi"
      },
      "source": [
        "df = pd.DataFrame({'Basket': [1,2,np.nan,3,5,8,np.nan],\n",
        "                   'volley': [1,6,np.nan,np.nan,6,8,7],\n",
        "                   'carrom': [2,3,np.nan,np.nan,np.nan,5,6],\n",
        "                   'barrom': [2,3,4,5,6,7,8]})"
      ],
      "execution_count": null,
      "outputs": []
    },
    {
      "cell_type": "code",
      "metadata": {
        "id": "-NriXfHTOCKk",
        "colab": {
          "base_uri": "https://localhost:8080/",
          "height": 269
        },
        "outputId": "9921d14f-8729-4340-f958-9612843098ce"
      },
      "source": [
        "df"
      ],
      "execution_count": null,
      "outputs": [
        {
          "output_type": "execute_result",
          "data": {
            "text/html": [
              "<div>\n",
              "<style scoped>\n",
              "    .dataframe tbody tr th:only-of-type {\n",
              "        vertical-align: middle;\n",
              "    }\n",
              "\n",
              "    .dataframe tbody tr th {\n",
              "        vertical-align: top;\n",
              "    }\n",
              "\n",
              "    .dataframe thead th {\n",
              "        text-align: right;\n",
              "    }\n",
              "</style>\n",
              "<table border=\"1\" class=\"dataframe\">\n",
              "  <thead>\n",
              "    <tr style=\"text-align: right;\">\n",
              "      <th></th>\n",
              "      <th>Basket</th>\n",
              "      <th>volley</th>\n",
              "      <th>carrom</th>\n",
              "      <th>barrom</th>\n",
              "    </tr>\n",
              "  </thead>\n",
              "  <tbody>\n",
              "    <tr>\n",
              "      <th>0</th>\n",
              "      <td>1.0</td>\n",
              "      <td>1.0</td>\n",
              "      <td>2.0</td>\n",
              "      <td>2</td>\n",
              "    </tr>\n",
              "    <tr>\n",
              "      <th>1</th>\n",
              "      <td>2.0</td>\n",
              "      <td>6.0</td>\n",
              "      <td>3.0</td>\n",
              "      <td>3</td>\n",
              "    </tr>\n",
              "    <tr>\n",
              "      <th>2</th>\n",
              "      <td>NaN</td>\n",
              "      <td>NaN</td>\n",
              "      <td>NaN</td>\n",
              "      <td>4</td>\n",
              "    </tr>\n",
              "    <tr>\n",
              "      <th>3</th>\n",
              "      <td>3.0</td>\n",
              "      <td>NaN</td>\n",
              "      <td>NaN</td>\n",
              "      <td>5</td>\n",
              "    </tr>\n",
              "    <tr>\n",
              "      <th>4</th>\n",
              "      <td>5.0</td>\n",
              "      <td>6.0</td>\n",
              "      <td>NaN</td>\n",
              "      <td>6</td>\n",
              "    </tr>\n",
              "    <tr>\n",
              "      <th>5</th>\n",
              "      <td>8.0</td>\n",
              "      <td>8.0</td>\n",
              "      <td>5.0</td>\n",
              "      <td>7</td>\n",
              "    </tr>\n",
              "    <tr>\n",
              "      <th>6</th>\n",
              "      <td>NaN</td>\n",
              "      <td>7.0</td>\n",
              "      <td>6.0</td>\n",
              "      <td>8</td>\n",
              "    </tr>\n",
              "  </tbody>\n",
              "</table>\n",
              "</div>"
            ],
            "text/plain": [
              "   Basket  volley  carrom  barrom\n",
              "0     1.0     1.0     2.0       2\n",
              "1     2.0     6.0     3.0       3\n",
              "2     NaN     NaN     NaN       4\n",
              "3     3.0     NaN     NaN       5\n",
              "4     5.0     6.0     NaN       6\n",
              "5     8.0     8.0     5.0       7\n",
              "6     NaN     7.0     6.0       8"
            ]
          },
          "metadata": {},
          "execution_count": 399
        }
      ]
    },
    {
      "cell_type": "code",
      "metadata": {
        "id": "GTMRMonlOCTb",
        "colab": {
          "base_uri": "https://localhost:8080/",
          "height": 143
        },
        "outputId": "b049c81f-87fe-426f-fe2e-e6b41c198b2a"
      },
      "source": [
        "df.dropna(axis = 0)"
      ],
      "execution_count": null,
      "outputs": [
        {
          "output_type": "execute_result",
          "data": {
            "text/html": [
              "<div>\n",
              "<style scoped>\n",
              "    .dataframe tbody tr th:only-of-type {\n",
              "        vertical-align: middle;\n",
              "    }\n",
              "\n",
              "    .dataframe tbody tr th {\n",
              "        vertical-align: top;\n",
              "    }\n",
              "\n",
              "    .dataframe thead th {\n",
              "        text-align: right;\n",
              "    }\n",
              "</style>\n",
              "<table border=\"1\" class=\"dataframe\">\n",
              "  <thead>\n",
              "    <tr style=\"text-align: right;\">\n",
              "      <th></th>\n",
              "      <th>Basket</th>\n",
              "      <th>volley</th>\n",
              "      <th>carrom</th>\n",
              "      <th>barrom</th>\n",
              "    </tr>\n",
              "  </thead>\n",
              "  <tbody>\n",
              "    <tr>\n",
              "      <th>0</th>\n",
              "      <td>1.0</td>\n",
              "      <td>1.0</td>\n",
              "      <td>2.0</td>\n",
              "      <td>2</td>\n",
              "    </tr>\n",
              "    <tr>\n",
              "      <th>1</th>\n",
              "      <td>2.0</td>\n",
              "      <td>6.0</td>\n",
              "      <td>3.0</td>\n",
              "      <td>3</td>\n",
              "    </tr>\n",
              "    <tr>\n",
              "      <th>5</th>\n",
              "      <td>8.0</td>\n",
              "      <td>8.0</td>\n",
              "      <td>5.0</td>\n",
              "      <td>7</td>\n",
              "    </tr>\n",
              "  </tbody>\n",
              "</table>\n",
              "</div>"
            ],
            "text/plain": [
              "   Basket  volley  carrom  barrom\n",
              "0     1.0     1.0     2.0       2\n",
              "1     2.0     6.0     3.0       3\n",
              "5     8.0     8.0     5.0       7"
            ]
          },
          "metadata": {},
          "execution_count": 400
        }
      ]
    },
    {
      "cell_type": "code",
      "metadata": {
        "id": "2zMR3PBgOCbZ",
        "colab": {
          "base_uri": "https://localhost:8080/",
          "height": 269
        },
        "outputId": "5d0d44d2-5db2-490e-b82f-30955eadbf91"
      },
      "source": [
        "df.dropna(axis = 1)"
      ],
      "execution_count": null,
      "outputs": [
        {
          "output_type": "execute_result",
          "data": {
            "text/html": [
              "<div>\n",
              "<style scoped>\n",
              "    .dataframe tbody tr th:only-of-type {\n",
              "        vertical-align: middle;\n",
              "    }\n",
              "\n",
              "    .dataframe tbody tr th {\n",
              "        vertical-align: top;\n",
              "    }\n",
              "\n",
              "    .dataframe thead th {\n",
              "        text-align: right;\n",
              "    }\n",
              "</style>\n",
              "<table border=\"1\" class=\"dataframe\">\n",
              "  <thead>\n",
              "    <tr style=\"text-align: right;\">\n",
              "      <th></th>\n",
              "      <th>barrom</th>\n",
              "    </tr>\n",
              "  </thead>\n",
              "  <tbody>\n",
              "    <tr>\n",
              "      <th>0</th>\n",
              "      <td>2</td>\n",
              "    </tr>\n",
              "    <tr>\n",
              "      <th>1</th>\n",
              "      <td>3</td>\n",
              "    </tr>\n",
              "    <tr>\n",
              "      <th>2</th>\n",
              "      <td>4</td>\n",
              "    </tr>\n",
              "    <tr>\n",
              "      <th>3</th>\n",
              "      <td>5</td>\n",
              "    </tr>\n",
              "    <tr>\n",
              "      <th>4</th>\n",
              "      <td>6</td>\n",
              "    </tr>\n",
              "    <tr>\n",
              "      <th>5</th>\n",
              "      <td>7</td>\n",
              "    </tr>\n",
              "    <tr>\n",
              "      <th>6</th>\n",
              "      <td>8</td>\n",
              "    </tr>\n",
              "  </tbody>\n",
              "</table>\n",
              "</div>"
            ],
            "text/plain": [
              "   barrom\n",
              "0       2\n",
              "1       3\n",
              "2       4\n",
              "3       5\n",
              "4       6\n",
              "5       7\n",
              "6       8"
            ]
          },
          "metadata": {},
          "execution_count": 401
        }
      ]
    },
    {
      "cell_type": "code",
      "metadata": {
        "id": "1u6C8YfROCiD",
        "colab": {
          "base_uri": "https://localhost:8080/",
          "height": 238
        },
        "outputId": "c3cf20e9-c6a9-496d-9d58-206a3521097d"
      },
      "source": [
        "df.dropna(thresh=2)"
      ],
      "execution_count": null,
      "outputs": [
        {
          "output_type": "execute_result",
          "data": {
            "text/html": [
              "<div>\n",
              "<style scoped>\n",
              "    .dataframe tbody tr th:only-of-type {\n",
              "        vertical-align: middle;\n",
              "    }\n",
              "\n",
              "    .dataframe tbody tr th {\n",
              "        vertical-align: top;\n",
              "    }\n",
              "\n",
              "    .dataframe thead th {\n",
              "        text-align: right;\n",
              "    }\n",
              "</style>\n",
              "<table border=\"1\" class=\"dataframe\">\n",
              "  <thead>\n",
              "    <tr style=\"text-align: right;\">\n",
              "      <th></th>\n",
              "      <th>Basket</th>\n",
              "      <th>volley</th>\n",
              "      <th>carrom</th>\n",
              "      <th>barrom</th>\n",
              "    </tr>\n",
              "  </thead>\n",
              "  <tbody>\n",
              "    <tr>\n",
              "      <th>0</th>\n",
              "      <td>1.0</td>\n",
              "      <td>1.0</td>\n",
              "      <td>2.0</td>\n",
              "      <td>2</td>\n",
              "    </tr>\n",
              "    <tr>\n",
              "      <th>1</th>\n",
              "      <td>2.0</td>\n",
              "      <td>6.0</td>\n",
              "      <td>3.0</td>\n",
              "      <td>3</td>\n",
              "    </tr>\n",
              "    <tr>\n",
              "      <th>3</th>\n",
              "      <td>3.0</td>\n",
              "      <td>NaN</td>\n",
              "      <td>NaN</td>\n",
              "      <td>5</td>\n",
              "    </tr>\n",
              "    <tr>\n",
              "      <th>4</th>\n",
              "      <td>5.0</td>\n",
              "      <td>6.0</td>\n",
              "      <td>NaN</td>\n",
              "      <td>6</td>\n",
              "    </tr>\n",
              "    <tr>\n",
              "      <th>5</th>\n",
              "      <td>8.0</td>\n",
              "      <td>8.0</td>\n",
              "      <td>5.0</td>\n",
              "      <td>7</td>\n",
              "    </tr>\n",
              "    <tr>\n",
              "      <th>6</th>\n",
              "      <td>NaN</td>\n",
              "      <td>7.0</td>\n",
              "      <td>6.0</td>\n",
              "      <td>8</td>\n",
              "    </tr>\n",
              "  </tbody>\n",
              "</table>\n",
              "</div>"
            ],
            "text/plain": [
              "   Basket  volley  carrom  barrom\n",
              "0     1.0     1.0     2.0       2\n",
              "1     2.0     6.0     3.0       3\n",
              "3     3.0     NaN     NaN       5\n",
              "4     5.0     6.0     NaN       6\n",
              "5     8.0     8.0     5.0       7\n",
              "6     NaN     7.0     6.0       8"
            ]
          },
          "metadata": {},
          "execution_count": 402
        }
      ]
    },
    {
      "cell_type": "code",
      "metadata": {
        "id": "u4JTCrG4OCou",
        "colab": {
          "base_uri": "https://localhost:8080/",
          "height": 269
        },
        "outputId": "741bc442-bd2c-49fc-e89d-7564a41d3bad"
      },
      "source": [
        "df.fillna(value=0)"
      ],
      "execution_count": null,
      "outputs": [
        {
          "output_type": "execute_result",
          "data": {
            "text/html": [
              "<div>\n",
              "<style scoped>\n",
              "    .dataframe tbody tr th:only-of-type {\n",
              "        vertical-align: middle;\n",
              "    }\n",
              "\n",
              "    .dataframe tbody tr th {\n",
              "        vertical-align: top;\n",
              "    }\n",
              "\n",
              "    .dataframe thead th {\n",
              "        text-align: right;\n",
              "    }\n",
              "</style>\n",
              "<table border=\"1\" class=\"dataframe\">\n",
              "  <thead>\n",
              "    <tr style=\"text-align: right;\">\n",
              "      <th></th>\n",
              "      <th>Basket</th>\n",
              "      <th>volley</th>\n",
              "      <th>carrom</th>\n",
              "      <th>barrom</th>\n",
              "    </tr>\n",
              "  </thead>\n",
              "  <tbody>\n",
              "    <tr>\n",
              "      <th>0</th>\n",
              "      <td>1.0</td>\n",
              "      <td>1.0</td>\n",
              "      <td>2.0</td>\n",
              "      <td>2</td>\n",
              "    </tr>\n",
              "    <tr>\n",
              "      <th>1</th>\n",
              "      <td>2.0</td>\n",
              "      <td>6.0</td>\n",
              "      <td>3.0</td>\n",
              "      <td>3</td>\n",
              "    </tr>\n",
              "    <tr>\n",
              "      <th>2</th>\n",
              "      <td>0.0</td>\n",
              "      <td>0.0</td>\n",
              "      <td>0.0</td>\n",
              "      <td>4</td>\n",
              "    </tr>\n",
              "    <tr>\n",
              "      <th>3</th>\n",
              "      <td>3.0</td>\n",
              "      <td>0.0</td>\n",
              "      <td>0.0</td>\n",
              "      <td>5</td>\n",
              "    </tr>\n",
              "    <tr>\n",
              "      <th>4</th>\n",
              "      <td>5.0</td>\n",
              "      <td>6.0</td>\n",
              "      <td>0.0</td>\n",
              "      <td>6</td>\n",
              "    </tr>\n",
              "    <tr>\n",
              "      <th>5</th>\n",
              "      <td>8.0</td>\n",
              "      <td>8.0</td>\n",
              "      <td>5.0</td>\n",
              "      <td>7</td>\n",
              "    </tr>\n",
              "    <tr>\n",
              "      <th>6</th>\n",
              "      <td>0.0</td>\n",
              "      <td>7.0</td>\n",
              "      <td>6.0</td>\n",
              "      <td>8</td>\n",
              "    </tr>\n",
              "  </tbody>\n",
              "</table>\n",
              "</div>"
            ],
            "text/plain": [
              "   Basket  volley  carrom  barrom\n",
              "0     1.0     1.0     2.0       2\n",
              "1     2.0     6.0     3.0       3\n",
              "2     0.0     0.0     0.0       4\n",
              "3     3.0     0.0     0.0       5\n",
              "4     5.0     6.0     0.0       6\n",
              "5     8.0     8.0     5.0       7\n",
              "6     0.0     7.0     6.0       8"
            ]
          },
          "metadata": {},
          "execution_count": 403
        }
      ]
    },
    {
      "cell_type": "code",
      "metadata": {
        "id": "j26Bq3ADOCub",
        "colab": {
          "base_uri": "https://localhost:8080/"
        },
        "outputId": "498325ef-bd95-4ff9-85fa-9fe9a200a5f7"
      },
      "source": [
        "df[\"carrom\"].fillna(value = df[\"carrom\"].mean())"
      ],
      "execution_count": null,
      "outputs": [
        {
          "output_type": "execute_result",
          "data": {
            "text/plain": [
              "0    2.0\n",
              "1    3.0\n",
              "2    4.0\n",
              "3    4.0\n",
              "4    4.0\n",
              "5    5.0\n",
              "6    6.0\n",
              "Name: carrom, dtype: float64"
            ]
          },
          "metadata": {},
          "execution_count": 404
        }
      ]
    },
    {
      "cell_type": "code",
      "metadata": {
        "id": "L8RSV13TOC0b",
        "colab": {
          "base_uri": "https://localhost:8080/",
          "height": 269
        },
        "outputId": "c2cf3b1b-9b7c-4e51-ee13-07ed4f3f9b87"
      },
      "source": [
        "df"
      ],
      "execution_count": null,
      "outputs": [
        {
          "output_type": "execute_result",
          "data": {
            "text/html": [
              "<div>\n",
              "<style scoped>\n",
              "    .dataframe tbody tr th:only-of-type {\n",
              "        vertical-align: middle;\n",
              "    }\n",
              "\n",
              "    .dataframe tbody tr th {\n",
              "        vertical-align: top;\n",
              "    }\n",
              "\n",
              "    .dataframe thead th {\n",
              "        text-align: right;\n",
              "    }\n",
              "</style>\n",
              "<table border=\"1\" class=\"dataframe\">\n",
              "  <thead>\n",
              "    <tr style=\"text-align: right;\">\n",
              "      <th></th>\n",
              "      <th>Basket</th>\n",
              "      <th>volley</th>\n",
              "      <th>carrom</th>\n",
              "      <th>barrom</th>\n",
              "    </tr>\n",
              "  </thead>\n",
              "  <tbody>\n",
              "    <tr>\n",
              "      <th>0</th>\n",
              "      <td>1.0</td>\n",
              "      <td>1.0</td>\n",
              "      <td>2.0</td>\n",
              "      <td>2</td>\n",
              "    </tr>\n",
              "    <tr>\n",
              "      <th>1</th>\n",
              "      <td>2.0</td>\n",
              "      <td>6.0</td>\n",
              "      <td>3.0</td>\n",
              "      <td>3</td>\n",
              "    </tr>\n",
              "    <tr>\n",
              "      <th>2</th>\n",
              "      <td>NaN</td>\n",
              "      <td>NaN</td>\n",
              "      <td>NaN</td>\n",
              "      <td>4</td>\n",
              "    </tr>\n",
              "    <tr>\n",
              "      <th>3</th>\n",
              "      <td>3.0</td>\n",
              "      <td>NaN</td>\n",
              "      <td>NaN</td>\n",
              "      <td>5</td>\n",
              "    </tr>\n",
              "    <tr>\n",
              "      <th>4</th>\n",
              "      <td>5.0</td>\n",
              "      <td>6.0</td>\n",
              "      <td>NaN</td>\n",
              "      <td>6</td>\n",
              "    </tr>\n",
              "    <tr>\n",
              "      <th>5</th>\n",
              "      <td>8.0</td>\n",
              "      <td>8.0</td>\n",
              "      <td>5.0</td>\n",
              "      <td>7</td>\n",
              "    </tr>\n",
              "    <tr>\n",
              "      <th>6</th>\n",
              "      <td>NaN</td>\n",
              "      <td>7.0</td>\n",
              "      <td>6.0</td>\n",
              "      <td>8</td>\n",
              "    </tr>\n",
              "  </tbody>\n",
              "</table>\n",
              "</div>"
            ],
            "text/plain": [
              "   Basket  volley  carrom  barrom\n",
              "0     1.0     1.0     2.0       2\n",
              "1     2.0     6.0     3.0       3\n",
              "2     NaN     NaN     NaN       4\n",
              "3     3.0     NaN     NaN       5\n",
              "4     5.0     6.0     NaN       6\n",
              "5     8.0     8.0     5.0       7\n",
              "6     NaN     7.0     6.0       8"
            ]
          },
          "metadata": {},
          "execution_count": 405
        }
      ]
    },
    {
      "cell_type": "markdown",
      "metadata": {
        "id": "Ar6_jtz2IFC9"
      },
      "source": [
        "## Group By\n",
        "-- used to group rows together and perform aggregate fuctions"
      ]
    },
    {
      "cell_type": "code",
      "metadata": {
        "id": "b5aERpcnOC6H"
      },
      "source": [
        "df = pd.DataFrame({'cust_id': [1001,1001,1003,1003,1005,1005],\n",
        "                   'name': ['vijay','suman','lavanya', 'gou','shek','harsha'],\n",
        "                   'salary': [200000,35000,50000,60000,15000,25000]})"
      ],
      "execution_count": null,
      "outputs": []
    },
    {
      "cell_type": "code",
      "metadata": {
        "id": "or3BAzaJOC-t",
        "colab": {
          "base_uri": "https://localhost:8080/",
          "height": 238
        },
        "outputId": "98f12176-af09-4f49-8366-a5f07ffc74d9"
      },
      "source": [
        "df"
      ],
      "execution_count": null,
      "outputs": [
        {
          "output_type": "execute_result",
          "data": {
            "text/html": [
              "<div>\n",
              "<style scoped>\n",
              "    .dataframe tbody tr th:only-of-type {\n",
              "        vertical-align: middle;\n",
              "    }\n",
              "\n",
              "    .dataframe tbody tr th {\n",
              "        vertical-align: top;\n",
              "    }\n",
              "\n",
              "    .dataframe thead th {\n",
              "        text-align: right;\n",
              "    }\n",
              "</style>\n",
              "<table border=\"1\" class=\"dataframe\">\n",
              "  <thead>\n",
              "    <tr style=\"text-align: right;\">\n",
              "      <th></th>\n",
              "      <th>cust_id</th>\n",
              "      <th>name</th>\n",
              "      <th>salary</th>\n",
              "    </tr>\n",
              "  </thead>\n",
              "  <tbody>\n",
              "    <tr>\n",
              "      <th>0</th>\n",
              "      <td>1001</td>\n",
              "      <td>vijay</td>\n",
              "      <td>200000</td>\n",
              "    </tr>\n",
              "    <tr>\n",
              "      <th>1</th>\n",
              "      <td>1001</td>\n",
              "      <td>suman</td>\n",
              "      <td>35000</td>\n",
              "    </tr>\n",
              "    <tr>\n",
              "      <th>2</th>\n",
              "      <td>1003</td>\n",
              "      <td>lavanya</td>\n",
              "      <td>50000</td>\n",
              "    </tr>\n",
              "    <tr>\n",
              "      <th>3</th>\n",
              "      <td>1003</td>\n",
              "      <td>gou</td>\n",
              "      <td>60000</td>\n",
              "    </tr>\n",
              "    <tr>\n",
              "      <th>4</th>\n",
              "      <td>1005</td>\n",
              "      <td>shek</td>\n",
              "      <td>15000</td>\n",
              "    </tr>\n",
              "    <tr>\n",
              "      <th>5</th>\n",
              "      <td>1005</td>\n",
              "      <td>harsha</td>\n",
              "      <td>25000</td>\n",
              "    </tr>\n",
              "  </tbody>\n",
              "</table>\n",
              "</div>"
            ],
            "text/plain": [
              "   cust_id     name  salary\n",
              "0     1001    vijay  200000\n",
              "1     1001    suman   35000\n",
              "2     1003  lavanya   50000\n",
              "3     1003      gou   60000\n",
              "4     1005     shek   15000\n",
              "5     1005   harsha   25000"
            ]
          },
          "metadata": {},
          "execution_count": 407
        }
      ]
    },
    {
      "cell_type": "code",
      "metadata": {
        "id": "k4x7MPJtODCt",
        "colab": {
          "base_uri": "https://localhost:8080/"
        },
        "outputId": "823d2729-1566-477a-9c62-f1dece6d445a"
      },
      "source": [
        "df.groupby('cust_id')\n"
      ],
      "execution_count": null,
      "outputs": [
        {
          "output_type": "execute_result",
          "data": {
            "text/plain": [
              "<pandas.core.groupby.generic.DataFrameGroupBy object at 0x7fc7af2da790>"
            ]
          },
          "metadata": {},
          "execution_count": 408
        }
      ]
    },
    {
      "cell_type": "code",
      "metadata": {
        "colab": {
          "base_uri": "https://localhost:8080/"
        },
        "id": "CpY-RngpH9XE",
        "outputId": "aa402823-cc87-4ab4-9021-2a27f3060281"
      },
      "source": [
        "custid_grouped = df.groupby('cust_id')\n",
        "custid_grouped"
      ],
      "execution_count": null,
      "outputs": [
        {
          "output_type": "execute_result",
          "data": {
            "text/plain": [
              "<pandas.core.groupby.generic.DataFrameGroupBy object at 0x7fc7af2a4d90>"
            ]
          },
          "metadata": {},
          "execution_count": 409
        }
      ]
    },
    {
      "cell_type": "code",
      "metadata": {
        "colab": {
          "base_uri": "https://localhost:8080/",
          "height": 175
        },
        "id": "EQY-k5kvH9tO",
        "outputId": "cc1d6a26-7b9f-490c-8c13-dceb2cf9c973"
      },
      "source": [
        "custid_grouped.mean()"
      ],
      "execution_count": null,
      "outputs": [
        {
          "output_type": "execute_result",
          "data": {
            "text/html": [
              "<div>\n",
              "<style scoped>\n",
              "    .dataframe tbody tr th:only-of-type {\n",
              "        vertical-align: middle;\n",
              "    }\n",
              "\n",
              "    .dataframe tbody tr th {\n",
              "        vertical-align: top;\n",
              "    }\n",
              "\n",
              "    .dataframe thead th {\n",
              "        text-align: right;\n",
              "    }\n",
              "</style>\n",
              "<table border=\"1\" class=\"dataframe\">\n",
              "  <thead>\n",
              "    <tr style=\"text-align: right;\">\n",
              "      <th></th>\n",
              "      <th>salary</th>\n",
              "    </tr>\n",
              "    <tr>\n",
              "      <th>cust_id</th>\n",
              "      <th></th>\n",
              "    </tr>\n",
              "  </thead>\n",
              "  <tbody>\n",
              "    <tr>\n",
              "      <th>1001</th>\n",
              "      <td>117500</td>\n",
              "    </tr>\n",
              "    <tr>\n",
              "      <th>1003</th>\n",
              "      <td>55000</td>\n",
              "    </tr>\n",
              "    <tr>\n",
              "      <th>1005</th>\n",
              "      <td>20000</td>\n",
              "    </tr>\n",
              "  </tbody>\n",
              "</table>\n",
              "</div>"
            ],
            "text/plain": [
              "         salary\n",
              "cust_id        \n",
              "1001     117500\n",
              "1003      55000\n",
              "1005      20000"
            ]
          },
          "metadata": {},
          "execution_count": 410
        }
      ]
    },
    {
      "cell_type": "code",
      "metadata": {
        "colab": {
          "base_uri": "https://localhost:8080/",
          "height": 175
        },
        "id": "fGsPHE4NH9-T",
        "outputId": "8e2b16df-f343-4eef-8dfd-5fbeda517805"
      },
      "source": [
        "custid_grouped.std()"
      ],
      "execution_count": null,
      "outputs": [
        {
          "output_type": "execute_result",
          "data": {
            "text/html": [
              "<div>\n",
              "<style scoped>\n",
              "    .dataframe tbody tr th:only-of-type {\n",
              "        vertical-align: middle;\n",
              "    }\n",
              "\n",
              "    .dataframe tbody tr th {\n",
              "        vertical-align: top;\n",
              "    }\n",
              "\n",
              "    .dataframe thead th {\n",
              "        text-align: right;\n",
              "    }\n",
              "</style>\n",
              "<table border=\"1\" class=\"dataframe\">\n",
              "  <thead>\n",
              "    <tr style=\"text-align: right;\">\n",
              "      <th></th>\n",
              "      <th>salary</th>\n",
              "    </tr>\n",
              "    <tr>\n",
              "      <th>cust_id</th>\n",
              "      <th></th>\n",
              "    </tr>\n",
              "  </thead>\n",
              "  <tbody>\n",
              "    <tr>\n",
              "      <th>1001</th>\n",
              "      <td>116672.618896</td>\n",
              "    </tr>\n",
              "    <tr>\n",
              "      <th>1003</th>\n",
              "      <td>7071.067812</td>\n",
              "    </tr>\n",
              "    <tr>\n",
              "      <th>1005</th>\n",
              "      <td>7071.067812</td>\n",
              "    </tr>\n",
              "  </tbody>\n",
              "</table>\n",
              "</div>"
            ],
            "text/plain": [
              "                salary\n",
              "cust_id               \n",
              "1001     116672.618896\n",
              "1003       7071.067812\n",
              "1005       7071.067812"
            ]
          },
          "metadata": {},
          "execution_count": 411
        }
      ]
    },
    {
      "cell_type": "code",
      "metadata": {
        "colab": {
          "base_uri": "https://localhost:8080/",
          "height": 175
        },
        "id": "ZAhppsrAH-Mb",
        "outputId": "7888104a-7809-4f4f-86e5-f4aa5fbd64d5"
      },
      "source": [
        "custid_grouped.min()"
      ],
      "execution_count": null,
      "outputs": [
        {
          "output_type": "execute_result",
          "data": {
            "text/html": [
              "<div>\n",
              "<style scoped>\n",
              "    .dataframe tbody tr th:only-of-type {\n",
              "        vertical-align: middle;\n",
              "    }\n",
              "\n",
              "    .dataframe tbody tr th {\n",
              "        vertical-align: top;\n",
              "    }\n",
              "\n",
              "    .dataframe thead th {\n",
              "        text-align: right;\n",
              "    }\n",
              "</style>\n",
              "<table border=\"1\" class=\"dataframe\">\n",
              "  <thead>\n",
              "    <tr style=\"text-align: right;\">\n",
              "      <th></th>\n",
              "      <th>name</th>\n",
              "      <th>salary</th>\n",
              "    </tr>\n",
              "    <tr>\n",
              "      <th>cust_id</th>\n",
              "      <th></th>\n",
              "      <th></th>\n",
              "    </tr>\n",
              "  </thead>\n",
              "  <tbody>\n",
              "    <tr>\n",
              "      <th>1001</th>\n",
              "      <td>suman</td>\n",
              "      <td>35000</td>\n",
              "    </tr>\n",
              "    <tr>\n",
              "      <th>1003</th>\n",
              "      <td>gou</td>\n",
              "      <td>50000</td>\n",
              "    </tr>\n",
              "    <tr>\n",
              "      <th>1005</th>\n",
              "      <td>harsha</td>\n",
              "      <td>15000</td>\n",
              "    </tr>\n",
              "  </tbody>\n",
              "</table>\n",
              "</div>"
            ],
            "text/plain": [
              "           name  salary\n",
              "cust_id                \n",
              "1001      suman   35000\n",
              "1003        gou   50000\n",
              "1005     harsha   15000"
            ]
          },
          "metadata": {},
          "execution_count": 412
        }
      ]
    },
    {
      "cell_type": "code",
      "metadata": {
        "colab": {
          "base_uri": "https://localhost:8080/",
          "height": 175
        },
        "id": "QxUOKkHSH-YM",
        "outputId": "b7e7fab0-ec69-43eb-a314-86f93d055c6d"
      },
      "source": [
        "custid_grouped.max()"
      ],
      "execution_count": null,
      "outputs": [
        {
          "output_type": "execute_result",
          "data": {
            "text/html": [
              "<div>\n",
              "<style scoped>\n",
              "    .dataframe tbody tr th:only-of-type {\n",
              "        vertical-align: middle;\n",
              "    }\n",
              "\n",
              "    .dataframe tbody tr th {\n",
              "        vertical-align: top;\n",
              "    }\n",
              "\n",
              "    .dataframe thead th {\n",
              "        text-align: right;\n",
              "    }\n",
              "</style>\n",
              "<table border=\"1\" class=\"dataframe\">\n",
              "  <thead>\n",
              "    <tr style=\"text-align: right;\">\n",
              "      <th></th>\n",
              "      <th>name</th>\n",
              "      <th>salary</th>\n",
              "    </tr>\n",
              "    <tr>\n",
              "      <th>cust_id</th>\n",
              "      <th></th>\n",
              "      <th></th>\n",
              "    </tr>\n",
              "  </thead>\n",
              "  <tbody>\n",
              "    <tr>\n",
              "      <th>1001</th>\n",
              "      <td>vijay</td>\n",
              "      <td>200000</td>\n",
              "    </tr>\n",
              "    <tr>\n",
              "      <th>1003</th>\n",
              "      <td>lavanya</td>\n",
              "      <td>60000</td>\n",
              "    </tr>\n",
              "    <tr>\n",
              "      <th>1005</th>\n",
              "      <td>shek</td>\n",
              "      <td>25000</td>\n",
              "    </tr>\n",
              "  </tbody>\n",
              "</table>\n",
              "</div>"
            ],
            "text/plain": [
              "            name  salary\n",
              "cust_id                 \n",
              "1001       vijay  200000\n",
              "1003     lavanya   60000\n",
              "1005        shek   25000"
            ]
          },
          "metadata": {},
          "execution_count": 413
        }
      ]
    },
    {
      "cell_type": "code",
      "metadata": {
        "colab": {
          "base_uri": "https://localhost:8080/",
          "height": 175
        },
        "id": "aT6RAZYfH-iD",
        "outputId": "9bdf6bc4-97f8-43b8-c9b6-9fe7db59c04d"
      },
      "source": [
        "custid_grouped.count()"
      ],
      "execution_count": null,
      "outputs": [
        {
          "output_type": "execute_result",
          "data": {
            "text/html": [
              "<div>\n",
              "<style scoped>\n",
              "    .dataframe tbody tr th:only-of-type {\n",
              "        vertical-align: middle;\n",
              "    }\n",
              "\n",
              "    .dataframe tbody tr th {\n",
              "        vertical-align: top;\n",
              "    }\n",
              "\n",
              "    .dataframe thead th {\n",
              "        text-align: right;\n",
              "    }\n",
              "</style>\n",
              "<table border=\"1\" class=\"dataframe\">\n",
              "  <thead>\n",
              "    <tr style=\"text-align: right;\">\n",
              "      <th></th>\n",
              "      <th>name</th>\n",
              "      <th>salary</th>\n",
              "    </tr>\n",
              "    <tr>\n",
              "      <th>cust_id</th>\n",
              "      <th></th>\n",
              "      <th></th>\n",
              "    </tr>\n",
              "  </thead>\n",
              "  <tbody>\n",
              "    <tr>\n",
              "      <th>1001</th>\n",
              "      <td>2</td>\n",
              "      <td>2</td>\n",
              "    </tr>\n",
              "    <tr>\n",
              "      <th>1003</th>\n",
              "      <td>2</td>\n",
              "      <td>2</td>\n",
              "    </tr>\n",
              "    <tr>\n",
              "      <th>1005</th>\n",
              "      <td>2</td>\n",
              "      <td>2</td>\n",
              "    </tr>\n",
              "  </tbody>\n",
              "</table>\n",
              "</div>"
            ],
            "text/plain": [
              "         name  salary\n",
              "cust_id              \n",
              "1001        2       2\n",
              "1003        2       2\n",
              "1005        2       2"
            ]
          },
          "metadata": {},
          "execution_count": 414
        }
      ]
    },
    {
      "cell_type": "code",
      "metadata": {
        "colab": {
          "base_uri": "https://localhost:8080/",
          "height": 206
        },
        "id": "M40hd_FrH-rN",
        "outputId": "7d3f326f-e5eb-4b2a-c060-287ad7f40468"
      },
      "source": [
        "custid_grouped.describe()"
      ],
      "execution_count": null,
      "outputs": [
        {
          "output_type": "execute_result",
          "data": {
            "text/html": [
              "<div>\n",
              "<style scoped>\n",
              "    .dataframe tbody tr th:only-of-type {\n",
              "        vertical-align: middle;\n",
              "    }\n",
              "\n",
              "    .dataframe tbody tr th {\n",
              "        vertical-align: top;\n",
              "    }\n",
              "\n",
              "    .dataframe thead tr th {\n",
              "        text-align: left;\n",
              "    }\n",
              "\n",
              "    .dataframe thead tr:last-of-type th {\n",
              "        text-align: right;\n",
              "    }\n",
              "</style>\n",
              "<table border=\"1\" class=\"dataframe\">\n",
              "  <thead>\n",
              "    <tr>\n",
              "      <th></th>\n",
              "      <th colspan=\"8\" halign=\"left\">salary</th>\n",
              "    </tr>\n",
              "    <tr>\n",
              "      <th></th>\n",
              "      <th>count</th>\n",
              "      <th>mean</th>\n",
              "      <th>std</th>\n",
              "      <th>min</th>\n",
              "      <th>25%</th>\n",
              "      <th>50%</th>\n",
              "      <th>75%</th>\n",
              "      <th>max</th>\n",
              "    </tr>\n",
              "    <tr>\n",
              "      <th>cust_id</th>\n",
              "      <th></th>\n",
              "      <th></th>\n",
              "      <th></th>\n",
              "      <th></th>\n",
              "      <th></th>\n",
              "      <th></th>\n",
              "      <th></th>\n",
              "      <th></th>\n",
              "    </tr>\n",
              "  </thead>\n",
              "  <tbody>\n",
              "    <tr>\n",
              "      <th>1001</th>\n",
              "      <td>2.0</td>\n",
              "      <td>117500.0</td>\n",
              "      <td>116672.618896</td>\n",
              "      <td>35000.0</td>\n",
              "      <td>76250.0</td>\n",
              "      <td>117500.0</td>\n",
              "      <td>158750.0</td>\n",
              "      <td>200000.0</td>\n",
              "    </tr>\n",
              "    <tr>\n",
              "      <th>1003</th>\n",
              "      <td>2.0</td>\n",
              "      <td>55000.0</td>\n",
              "      <td>7071.067812</td>\n",
              "      <td>50000.0</td>\n",
              "      <td>52500.0</td>\n",
              "      <td>55000.0</td>\n",
              "      <td>57500.0</td>\n",
              "      <td>60000.0</td>\n",
              "    </tr>\n",
              "    <tr>\n",
              "      <th>1005</th>\n",
              "      <td>2.0</td>\n",
              "      <td>20000.0</td>\n",
              "      <td>7071.067812</td>\n",
              "      <td>15000.0</td>\n",
              "      <td>17500.0</td>\n",
              "      <td>20000.0</td>\n",
              "      <td>22500.0</td>\n",
              "      <td>25000.0</td>\n",
              "    </tr>\n",
              "  </tbody>\n",
              "</table>\n",
              "</div>"
            ],
            "text/plain": [
              "        salary                           ...                              \n",
              "         count      mean            std  ...       50%       75%       max\n",
              "cust_id                                  ...                              \n",
              "1001       2.0  117500.0  116672.618896  ...  117500.0  158750.0  200000.0\n",
              "1003       2.0   55000.0    7071.067812  ...   55000.0   57500.0   60000.0\n",
              "1005       2.0   20000.0    7071.067812  ...   20000.0   22500.0   25000.0\n",
              "\n",
              "[3 rows x 8 columns]"
            ]
          },
          "metadata": {},
          "execution_count": 415
        }
      ]
    },
    {
      "cell_type": "code",
      "metadata": {
        "colab": {
          "base_uri": "https://localhost:8080/",
          "height": 300
        },
        "id": "4NO9QkdyH-0e",
        "outputId": "d5eeb5b9-0f90-49eb-86f6-96e2dc3f2ec3"
      },
      "source": [
        "custid_grouped.describe().transpose()  # or T"
      ],
      "execution_count": null,
      "outputs": [
        {
          "output_type": "execute_result",
          "data": {
            "text/html": [
              "<div>\n",
              "<style scoped>\n",
              "    .dataframe tbody tr th:only-of-type {\n",
              "        vertical-align: middle;\n",
              "    }\n",
              "\n",
              "    .dataframe tbody tr th {\n",
              "        vertical-align: top;\n",
              "    }\n",
              "\n",
              "    .dataframe thead th {\n",
              "        text-align: right;\n",
              "    }\n",
              "</style>\n",
              "<table border=\"1\" class=\"dataframe\">\n",
              "  <thead>\n",
              "    <tr style=\"text-align: right;\">\n",
              "      <th></th>\n",
              "      <th>cust_id</th>\n",
              "      <th>1001</th>\n",
              "      <th>1003</th>\n",
              "      <th>1005</th>\n",
              "    </tr>\n",
              "  </thead>\n",
              "  <tbody>\n",
              "    <tr>\n",
              "      <th rowspan=\"8\" valign=\"top\">salary</th>\n",
              "      <th>count</th>\n",
              "      <td>2.000000</td>\n",
              "      <td>2.000000</td>\n",
              "      <td>2.000000</td>\n",
              "    </tr>\n",
              "    <tr>\n",
              "      <th>mean</th>\n",
              "      <td>117500.000000</td>\n",
              "      <td>55000.000000</td>\n",
              "      <td>20000.000000</td>\n",
              "    </tr>\n",
              "    <tr>\n",
              "      <th>std</th>\n",
              "      <td>116672.618896</td>\n",
              "      <td>7071.067812</td>\n",
              "      <td>7071.067812</td>\n",
              "    </tr>\n",
              "    <tr>\n",
              "      <th>min</th>\n",
              "      <td>35000.000000</td>\n",
              "      <td>50000.000000</td>\n",
              "      <td>15000.000000</td>\n",
              "    </tr>\n",
              "    <tr>\n",
              "      <th>25%</th>\n",
              "      <td>76250.000000</td>\n",
              "      <td>52500.000000</td>\n",
              "      <td>17500.000000</td>\n",
              "    </tr>\n",
              "    <tr>\n",
              "      <th>50%</th>\n",
              "      <td>117500.000000</td>\n",
              "      <td>55000.000000</td>\n",
              "      <td>20000.000000</td>\n",
              "    </tr>\n",
              "    <tr>\n",
              "      <th>75%</th>\n",
              "      <td>158750.000000</td>\n",
              "      <td>57500.000000</td>\n",
              "      <td>22500.000000</td>\n",
              "    </tr>\n",
              "    <tr>\n",
              "      <th>max</th>\n",
              "      <td>200000.000000</td>\n",
              "      <td>60000.000000</td>\n",
              "      <td>25000.000000</td>\n",
              "    </tr>\n",
              "  </tbody>\n",
              "</table>\n",
              "</div>"
            ],
            "text/plain": [
              "cust_id                1001          1003          1005\n",
              "salary count       2.000000      2.000000      2.000000\n",
              "       mean   117500.000000  55000.000000  20000.000000\n",
              "       std    116672.618896   7071.067812   7071.067812\n",
              "       min     35000.000000  50000.000000  15000.000000\n",
              "       25%     76250.000000  52500.000000  17500.000000\n",
              "       50%    117500.000000  55000.000000  20000.000000\n",
              "       75%    158750.000000  57500.000000  22500.000000\n",
              "       max    200000.000000  60000.000000  25000.000000"
            ]
          },
          "metadata": {},
          "execution_count": 416
        }
      ]
    },
    {
      "cell_type": "code",
      "metadata": {
        "colab": {
          "base_uri": "https://localhost:8080/"
        },
        "id": "a_hiLAFAH-9o",
        "outputId": "6a0b0bcc-8f23-4ee1-c0ed-c6b8f8aa088e"
      },
      "source": [
        "custid_grouped.describe().T[1001]"
      ],
      "execution_count": null,
      "outputs": [
        {
          "output_type": "execute_result",
          "data": {
            "text/plain": [
              "salary  count         2.000000\n",
              "        mean     117500.000000\n",
              "        std      116672.618896\n",
              "        min       35000.000000\n",
              "        25%       76250.000000\n",
              "        50%      117500.000000\n",
              "        75%      158750.000000\n",
              "        max      200000.000000\n",
              "Name: 1001, dtype: float64"
            ]
          },
          "metadata": {},
          "execution_count": 417
        }
      ]
    },
    {
      "cell_type": "code",
      "metadata": {
        "id": "IyNP8sw-RDM9"
      },
      "source": [
        "df1 = pd.DataFrame({'cust_id': [1001,1002,1003,],\n",
        "                   'name': ['vijay','suman','lavanya', ],\n",
        "                   'salary': [200000,35000,50000]})"
      ],
      "execution_count": null,
      "outputs": []
    },
    {
      "cell_type": "code",
      "metadata": {
        "colab": {
          "base_uri": "https://localhost:8080/",
          "height": 143
        },
        "id": "zxMeDaxqRDd3",
        "outputId": "7b2a236d-4349-4309-e3d4-d1a2045adf4e"
      },
      "source": [
        "df1"
      ],
      "execution_count": null,
      "outputs": [
        {
          "output_type": "execute_result",
          "data": {
            "text/html": [
              "<div>\n",
              "<style scoped>\n",
              "    .dataframe tbody tr th:only-of-type {\n",
              "        vertical-align: middle;\n",
              "    }\n",
              "\n",
              "    .dataframe tbody tr th {\n",
              "        vertical-align: top;\n",
              "    }\n",
              "\n",
              "    .dataframe thead th {\n",
              "        text-align: right;\n",
              "    }\n",
              "</style>\n",
              "<table border=\"1\" class=\"dataframe\">\n",
              "  <thead>\n",
              "    <tr style=\"text-align: right;\">\n",
              "      <th></th>\n",
              "      <th>cust_id</th>\n",
              "      <th>name</th>\n",
              "      <th>salary</th>\n",
              "    </tr>\n",
              "  </thead>\n",
              "  <tbody>\n",
              "    <tr>\n",
              "      <th>0</th>\n",
              "      <td>1001</td>\n",
              "      <td>vijay</td>\n",
              "      <td>200000</td>\n",
              "    </tr>\n",
              "    <tr>\n",
              "      <th>1</th>\n",
              "      <td>1002</td>\n",
              "      <td>suman</td>\n",
              "      <td>35000</td>\n",
              "    </tr>\n",
              "    <tr>\n",
              "      <th>2</th>\n",
              "      <td>1003</td>\n",
              "      <td>lavanya</td>\n",
              "      <td>50000</td>\n",
              "    </tr>\n",
              "  </tbody>\n",
              "</table>\n",
              "</div>"
            ],
            "text/plain": [
              "   cust_id     name  salary\n",
              "0     1001    vijay  200000\n",
              "1     1002    suman   35000\n",
              "2     1003  lavanya   50000"
            ]
          },
          "metadata": {},
          "execution_count": 419
        }
      ]
    },
    {
      "cell_type": "code",
      "metadata": {
        "colab": {
          "base_uri": "https://localhost:8080/",
          "height": 143
        },
        "id": "xunRn4FHRDti",
        "outputId": "135c9a04-3f00-446f-c4dd-56c44261de2c"
      },
      "source": [
        "df2 = pd.DataFrame({'emp_id': [2001,2002,2003],\n",
        "                   'emp_name': ['gou','shek','harsha'],\n",
        "                   'salary': [60000,15000,25000]})\n",
        "df2"
      ],
      "execution_count": null,
      "outputs": [
        {
          "output_type": "execute_result",
          "data": {
            "text/html": [
              "<div>\n",
              "<style scoped>\n",
              "    .dataframe tbody tr th:only-of-type {\n",
              "        vertical-align: middle;\n",
              "    }\n",
              "\n",
              "    .dataframe tbody tr th {\n",
              "        vertical-align: top;\n",
              "    }\n",
              "\n",
              "    .dataframe thead th {\n",
              "        text-align: right;\n",
              "    }\n",
              "</style>\n",
              "<table border=\"1\" class=\"dataframe\">\n",
              "  <thead>\n",
              "    <tr style=\"text-align: right;\">\n",
              "      <th></th>\n",
              "      <th>emp_id</th>\n",
              "      <th>emp_name</th>\n",
              "      <th>salary</th>\n",
              "    </tr>\n",
              "  </thead>\n",
              "  <tbody>\n",
              "    <tr>\n",
              "      <th>0</th>\n",
              "      <td>2001</td>\n",
              "      <td>gou</td>\n",
              "      <td>60000</td>\n",
              "    </tr>\n",
              "    <tr>\n",
              "      <th>1</th>\n",
              "      <td>2002</td>\n",
              "      <td>shek</td>\n",
              "      <td>15000</td>\n",
              "    </tr>\n",
              "    <tr>\n",
              "      <th>2</th>\n",
              "      <td>2003</td>\n",
              "      <td>harsha</td>\n",
              "      <td>25000</td>\n",
              "    </tr>\n",
              "  </tbody>\n",
              "</table>\n",
              "</div>"
            ],
            "text/plain": [
              "   emp_id emp_name  salary\n",
              "0    2001      gou   60000\n",
              "1    2002     shek   15000\n",
              "2    2003   harsha   25000"
            ]
          },
          "metadata": {},
          "execution_count": 427
        }
      ]
    },
    {
      "cell_type": "code",
      "metadata": {
        "id": "mmxvaeBkRD8c"
      },
      "source": [
        "df3 = pd.DataFrame({'cust_id': [1007,1008,1009],\n",
        "                   'name': [ 'gouthami','shekar','viharsh'],\n",
        "                   'bonus': [20000,15000,25000]})\n"
      ],
      "execution_count": null,
      "outputs": []
    },
    {
      "cell_type": "code",
      "metadata": {
        "colab": {
          "base_uri": "https://localhost:8080/",
          "height": 143
        },
        "id": "7xGMJJkhdokt",
        "outputId": "12f4d806-ec60-4a99-c524-9566219ebe36"
      },
      "source": [
        "df3"
      ],
      "execution_count": null,
      "outputs": [
        {
          "output_type": "execute_result",
          "data": {
            "text/html": [
              "<div>\n",
              "<style scoped>\n",
              "    .dataframe tbody tr th:only-of-type {\n",
              "        vertical-align: middle;\n",
              "    }\n",
              "\n",
              "    .dataframe tbody tr th {\n",
              "        vertical-align: top;\n",
              "    }\n",
              "\n",
              "    .dataframe thead th {\n",
              "        text-align: right;\n",
              "    }\n",
              "</style>\n",
              "<table border=\"1\" class=\"dataframe\">\n",
              "  <thead>\n",
              "    <tr style=\"text-align: right;\">\n",
              "      <th></th>\n",
              "      <th>cust_id</th>\n",
              "      <th>name</th>\n",
              "      <th>bonus</th>\n",
              "    </tr>\n",
              "  </thead>\n",
              "  <tbody>\n",
              "    <tr>\n",
              "      <th>0</th>\n",
              "      <td>1007</td>\n",
              "      <td>gouthami</td>\n",
              "      <td>20000</td>\n",
              "    </tr>\n",
              "    <tr>\n",
              "      <th>1</th>\n",
              "      <td>1008</td>\n",
              "      <td>shekar</td>\n",
              "      <td>15000</td>\n",
              "    </tr>\n",
              "    <tr>\n",
              "      <th>2</th>\n",
              "      <td>1009</td>\n",
              "      <td>viharsh</td>\n",
              "      <td>25000</td>\n",
              "    </tr>\n",
              "  </tbody>\n",
              "</table>\n",
              "</div>"
            ],
            "text/plain": [
              "   cust_id      name  bonus\n",
              "0     1007  gouthami  20000\n",
              "1     1008    shekar  15000\n",
              "2     1009   viharsh  25000"
            ]
          },
          "metadata": {},
          "execution_count": 426
        }
      ]
    },
    {
      "cell_type": "markdown",
      "metadata": {
        "id": "mf5F6lBMcKxC"
      },
      "source": [
        "## Contatenation\n",
        "joins dataframes basically either rows or columns(axis = 0 or 1)\n",
        ",we need to ensure dimension size of dataframes is same"
      ]
    },
    {
      "cell_type": "code",
      "metadata": {
        "colab": {
          "base_uri": "https://localhost:8080/",
          "height": 332
        },
        "id": "FHvnnp4WRELN",
        "outputId": "0cc3887f-a5ff-4fdd-9780-26851f45eff9"
      },
      "source": [
        "pd.concat([df1,df2,df3])"
      ],
      "execution_count": null,
      "outputs": [
        {
          "output_type": "execute_result",
          "data": {
            "text/html": [
              "<div>\n",
              "<style scoped>\n",
              "    .dataframe tbody tr th:only-of-type {\n",
              "        vertical-align: middle;\n",
              "    }\n",
              "\n",
              "    .dataframe tbody tr th {\n",
              "        vertical-align: top;\n",
              "    }\n",
              "\n",
              "    .dataframe thead th {\n",
              "        text-align: right;\n",
              "    }\n",
              "</style>\n",
              "<table border=\"1\" class=\"dataframe\">\n",
              "  <thead>\n",
              "    <tr style=\"text-align: right;\">\n",
              "      <th></th>\n",
              "      <th>cust_id</th>\n",
              "      <th>name</th>\n",
              "      <th>salary</th>\n",
              "      <th>emp_id</th>\n",
              "      <th>emp_name</th>\n",
              "      <th>bonus</th>\n",
              "    </tr>\n",
              "  </thead>\n",
              "  <tbody>\n",
              "    <tr>\n",
              "      <th>0</th>\n",
              "      <td>1001.0</td>\n",
              "      <td>vijay</td>\n",
              "      <td>200000.0</td>\n",
              "      <td>NaN</td>\n",
              "      <td>NaN</td>\n",
              "      <td>NaN</td>\n",
              "    </tr>\n",
              "    <tr>\n",
              "      <th>1</th>\n",
              "      <td>1002.0</td>\n",
              "      <td>suman</td>\n",
              "      <td>35000.0</td>\n",
              "      <td>NaN</td>\n",
              "      <td>NaN</td>\n",
              "      <td>NaN</td>\n",
              "    </tr>\n",
              "    <tr>\n",
              "      <th>2</th>\n",
              "      <td>1003.0</td>\n",
              "      <td>lavanya</td>\n",
              "      <td>50000.0</td>\n",
              "      <td>NaN</td>\n",
              "      <td>NaN</td>\n",
              "      <td>NaN</td>\n",
              "    </tr>\n",
              "    <tr>\n",
              "      <th>0</th>\n",
              "      <td>NaN</td>\n",
              "      <td>NaN</td>\n",
              "      <td>60000.0</td>\n",
              "      <td>2001.0</td>\n",
              "      <td>gou</td>\n",
              "      <td>NaN</td>\n",
              "    </tr>\n",
              "    <tr>\n",
              "      <th>1</th>\n",
              "      <td>NaN</td>\n",
              "      <td>NaN</td>\n",
              "      <td>15000.0</td>\n",
              "      <td>2002.0</td>\n",
              "      <td>shek</td>\n",
              "      <td>NaN</td>\n",
              "    </tr>\n",
              "    <tr>\n",
              "      <th>2</th>\n",
              "      <td>NaN</td>\n",
              "      <td>NaN</td>\n",
              "      <td>25000.0</td>\n",
              "      <td>2003.0</td>\n",
              "      <td>harsha</td>\n",
              "      <td>NaN</td>\n",
              "    </tr>\n",
              "    <tr>\n",
              "      <th>0</th>\n",
              "      <td>1007.0</td>\n",
              "      <td>gouthami</td>\n",
              "      <td>NaN</td>\n",
              "      <td>NaN</td>\n",
              "      <td>NaN</td>\n",
              "      <td>20000.0</td>\n",
              "    </tr>\n",
              "    <tr>\n",
              "      <th>1</th>\n",
              "      <td>1008.0</td>\n",
              "      <td>shekar</td>\n",
              "      <td>NaN</td>\n",
              "      <td>NaN</td>\n",
              "      <td>NaN</td>\n",
              "      <td>15000.0</td>\n",
              "    </tr>\n",
              "    <tr>\n",
              "      <th>2</th>\n",
              "      <td>1009.0</td>\n",
              "      <td>viharsh</td>\n",
              "      <td>NaN</td>\n",
              "      <td>NaN</td>\n",
              "      <td>NaN</td>\n",
              "      <td>25000.0</td>\n",
              "    </tr>\n",
              "  </tbody>\n",
              "</table>\n",
              "</div>"
            ],
            "text/plain": [
              "   cust_id      name    salary  emp_id emp_name    bonus\n",
              "0   1001.0     vijay  200000.0     NaN      NaN      NaN\n",
              "1   1002.0     suman   35000.0     NaN      NaN      NaN\n",
              "2   1003.0   lavanya   50000.0     NaN      NaN      NaN\n",
              "0      NaN       NaN   60000.0  2001.0      gou      NaN\n",
              "1      NaN       NaN   15000.0  2002.0     shek      NaN\n",
              "2      NaN       NaN   25000.0  2003.0   harsha      NaN\n",
              "0   1007.0  gouthami       NaN     NaN      NaN  20000.0\n",
              "1   1008.0    shekar       NaN     NaN      NaN  15000.0\n",
              "2   1009.0   viharsh       NaN     NaN      NaN  25000.0"
            ]
          },
          "metadata": {},
          "execution_count": 428
        }
      ]
    },
    {
      "cell_type": "code",
      "metadata": {
        "colab": {
          "base_uri": "https://localhost:8080/",
          "height": 143
        },
        "id": "hQ_Nq8uqREbX",
        "outputId": "fd071c3a-2eae-4fd1-e780-d92f45849f1e"
      },
      "source": [
        "pd.concat([df1,df2,df3],axis = 1)"
      ],
      "execution_count": null,
      "outputs": [
        {
          "output_type": "execute_result",
          "data": {
            "text/html": [
              "<div>\n",
              "<style scoped>\n",
              "    .dataframe tbody tr th:only-of-type {\n",
              "        vertical-align: middle;\n",
              "    }\n",
              "\n",
              "    .dataframe tbody tr th {\n",
              "        vertical-align: top;\n",
              "    }\n",
              "\n",
              "    .dataframe thead th {\n",
              "        text-align: right;\n",
              "    }\n",
              "</style>\n",
              "<table border=\"1\" class=\"dataframe\">\n",
              "  <thead>\n",
              "    <tr style=\"text-align: right;\">\n",
              "      <th></th>\n",
              "      <th>cust_id</th>\n",
              "      <th>name</th>\n",
              "      <th>salary</th>\n",
              "      <th>emp_id</th>\n",
              "      <th>emp_name</th>\n",
              "      <th>salary</th>\n",
              "      <th>cust_id</th>\n",
              "      <th>name</th>\n",
              "      <th>bonus</th>\n",
              "    </tr>\n",
              "  </thead>\n",
              "  <tbody>\n",
              "    <tr>\n",
              "      <th>0</th>\n",
              "      <td>1001</td>\n",
              "      <td>vijay</td>\n",
              "      <td>200000</td>\n",
              "      <td>2001</td>\n",
              "      <td>gou</td>\n",
              "      <td>60000</td>\n",
              "      <td>1007</td>\n",
              "      <td>gouthami</td>\n",
              "      <td>20000</td>\n",
              "    </tr>\n",
              "    <tr>\n",
              "      <th>1</th>\n",
              "      <td>1002</td>\n",
              "      <td>suman</td>\n",
              "      <td>35000</td>\n",
              "      <td>2002</td>\n",
              "      <td>shek</td>\n",
              "      <td>15000</td>\n",
              "      <td>1008</td>\n",
              "      <td>shekar</td>\n",
              "      <td>15000</td>\n",
              "    </tr>\n",
              "    <tr>\n",
              "      <th>2</th>\n",
              "      <td>1003</td>\n",
              "      <td>lavanya</td>\n",
              "      <td>50000</td>\n",
              "      <td>2003</td>\n",
              "      <td>harsha</td>\n",
              "      <td>25000</td>\n",
              "      <td>1009</td>\n",
              "      <td>viharsh</td>\n",
              "      <td>25000</td>\n",
              "    </tr>\n",
              "  </tbody>\n",
              "</table>\n",
              "</div>"
            ],
            "text/plain": [
              "   cust_id     name  salary  emp_id emp_name  salary  cust_id      name  bonus\n",
              "0     1001    vijay  200000    2001      gou   60000     1007  gouthami  20000\n",
              "1     1002    suman   35000    2002     shek   15000     1008    shekar  15000\n",
              "2     1003  lavanya   50000    2003   harsha   25000     1009   viharsh  25000"
            ]
          },
          "metadata": {},
          "execution_count": 432
        }
      ]
    },
    {
      "cell_type": "markdown",
      "metadata": {
        "id": "sBZ2elk0etpC"
      },
      "source": [
        " ## Merging \n",
        "Just like sql tables, used to merge dataframes"
      ]
    },
    {
      "cell_type": "code",
      "metadata": {
        "id": "UDVqX-JjREqh"
      },
      "source": [
        "Table1 = pd.DataFrame({'cust_id': [1000, 1001,1002, 1003],\n",
        "                       'Q1': ['15000','1250','15020','2123'],\n",
        "                       'Q2':['1532','4646','6545','5464']})"
      ],
      "execution_count": null,
      "outputs": []
    },
    {
      "cell_type": "code",
      "metadata": {
        "colab": {
          "base_uri": "https://localhost:8080/",
          "height": 175
        },
        "id": "5NE1s7kigVVR",
        "outputId": "d3778b94-2e14-41ec-ca3d-f7d1d9d3afad"
      },
      "source": [
        "Table1"
      ],
      "execution_count": null,
      "outputs": [
        {
          "output_type": "execute_result",
          "data": {
            "text/html": [
              "<div>\n",
              "<style scoped>\n",
              "    .dataframe tbody tr th:only-of-type {\n",
              "        vertical-align: middle;\n",
              "    }\n",
              "\n",
              "    .dataframe tbody tr th {\n",
              "        vertical-align: top;\n",
              "    }\n",
              "\n",
              "    .dataframe thead th {\n",
              "        text-align: right;\n",
              "    }\n",
              "</style>\n",
              "<table border=\"1\" class=\"dataframe\">\n",
              "  <thead>\n",
              "    <tr style=\"text-align: right;\">\n",
              "      <th></th>\n",
              "      <th>cust_id</th>\n",
              "      <th>Q1</th>\n",
              "      <th>Q2</th>\n",
              "    </tr>\n",
              "  </thead>\n",
              "  <tbody>\n",
              "    <tr>\n",
              "      <th>0</th>\n",
              "      <td>1000</td>\n",
              "      <td>15000</td>\n",
              "      <td>1532</td>\n",
              "    </tr>\n",
              "    <tr>\n",
              "      <th>1</th>\n",
              "      <td>1001</td>\n",
              "      <td>1250</td>\n",
              "      <td>4646</td>\n",
              "    </tr>\n",
              "    <tr>\n",
              "      <th>2</th>\n",
              "      <td>1002</td>\n",
              "      <td>15020</td>\n",
              "      <td>6545</td>\n",
              "    </tr>\n",
              "    <tr>\n",
              "      <th>3</th>\n",
              "      <td>1003</td>\n",
              "      <td>2123</td>\n",
              "      <td>5464</td>\n",
              "    </tr>\n",
              "  </tbody>\n",
              "</table>\n",
              "</div>"
            ],
            "text/plain": [
              "   cust_id     Q1    Q2\n",
              "0     1000  15000  1532\n",
              "1     1001   1250  4646\n",
              "2     1002  15020  6545\n",
              "3     1003   2123  5464"
            ]
          },
          "metadata": {},
          "execution_count": 441
        }
      ]
    },
    {
      "cell_type": "code",
      "metadata": {
        "id": "nG3I8jSTRE5A"
      },
      "source": [
        "Table2 = pd.DataFrame({'cust_id': [1002, 1005,1004, 1003],\n",
        "                       'Q3': ['25000','1250','5050','1123'],\n",
        "                       'Q4':['1232','2646','6544','2464']})"
      ],
      "execution_count": null,
      "outputs": []
    },
    {
      "cell_type": "code",
      "metadata": {
        "colab": {
          "base_uri": "https://localhost:8080/",
          "height": 175
        },
        "id": "tlm-vFPURFHT",
        "outputId": "a15a0b3a-d167-418a-fc2c-b73c317b81e5"
      },
      "source": [
        "Table2"
      ],
      "execution_count": null,
      "outputs": [
        {
          "output_type": "execute_result",
          "data": {
            "text/html": [
              "<div>\n",
              "<style scoped>\n",
              "    .dataframe tbody tr th:only-of-type {\n",
              "        vertical-align: middle;\n",
              "    }\n",
              "\n",
              "    .dataframe tbody tr th {\n",
              "        vertical-align: top;\n",
              "    }\n",
              "\n",
              "    .dataframe thead th {\n",
              "        text-align: right;\n",
              "    }\n",
              "</style>\n",
              "<table border=\"1\" class=\"dataframe\">\n",
              "  <thead>\n",
              "    <tr style=\"text-align: right;\">\n",
              "      <th></th>\n",
              "      <th>cust_id</th>\n",
              "      <th>Q3</th>\n",
              "      <th>Q4</th>\n",
              "    </tr>\n",
              "  </thead>\n",
              "  <tbody>\n",
              "    <tr>\n",
              "      <th>0</th>\n",
              "      <td>1002</td>\n",
              "      <td>25000</td>\n",
              "      <td>1232</td>\n",
              "    </tr>\n",
              "    <tr>\n",
              "      <th>1</th>\n",
              "      <td>1005</td>\n",
              "      <td>1250</td>\n",
              "      <td>2646</td>\n",
              "    </tr>\n",
              "    <tr>\n",
              "      <th>2</th>\n",
              "      <td>1004</td>\n",
              "      <td>5050</td>\n",
              "      <td>6544</td>\n",
              "    </tr>\n",
              "    <tr>\n",
              "      <th>3</th>\n",
              "      <td>1003</td>\n",
              "      <td>1123</td>\n",
              "      <td>2464</td>\n",
              "    </tr>\n",
              "  </tbody>\n",
              "</table>\n",
              "</div>"
            ],
            "text/plain": [
              "   cust_id     Q3    Q4\n",
              "0     1002  25000  1232\n",
              "1     1005   1250  2646\n",
              "2     1004   5050  6544\n",
              "3     1003   1123  2464"
            ]
          },
          "metadata": {},
          "execution_count": 439
        }
      ]
    },
    {
      "cell_type": "code",
      "metadata": {
        "colab": {
          "base_uri": "https://localhost:8080/",
          "height": 238
        },
        "id": "DFcfxrRMRFYM",
        "outputId": "04592f76-663c-40b8-d582-4023405cf4a9"
      },
      "source": [
        "pd.merge(Table1,Table2, how= 'outer',on = 'cust_id')"
      ],
      "execution_count": null,
      "outputs": [
        {
          "output_type": "execute_result",
          "data": {
            "text/html": [
              "<div>\n",
              "<style scoped>\n",
              "    .dataframe tbody tr th:only-of-type {\n",
              "        vertical-align: middle;\n",
              "    }\n",
              "\n",
              "    .dataframe tbody tr th {\n",
              "        vertical-align: top;\n",
              "    }\n",
              "\n",
              "    .dataframe thead th {\n",
              "        text-align: right;\n",
              "    }\n",
              "</style>\n",
              "<table border=\"1\" class=\"dataframe\">\n",
              "  <thead>\n",
              "    <tr style=\"text-align: right;\">\n",
              "      <th></th>\n",
              "      <th>cust_id</th>\n",
              "      <th>Q1</th>\n",
              "      <th>Q2</th>\n",
              "      <th>Q3</th>\n",
              "      <th>Q4</th>\n",
              "    </tr>\n",
              "  </thead>\n",
              "  <tbody>\n",
              "    <tr>\n",
              "      <th>0</th>\n",
              "      <td>1000</td>\n",
              "      <td>15000</td>\n",
              "      <td>1532</td>\n",
              "      <td>NaN</td>\n",
              "      <td>NaN</td>\n",
              "    </tr>\n",
              "    <tr>\n",
              "      <th>1</th>\n",
              "      <td>1001</td>\n",
              "      <td>1250</td>\n",
              "      <td>4646</td>\n",
              "      <td>NaN</td>\n",
              "      <td>NaN</td>\n",
              "    </tr>\n",
              "    <tr>\n",
              "      <th>2</th>\n",
              "      <td>1002</td>\n",
              "      <td>15020</td>\n",
              "      <td>6545</td>\n",
              "      <td>25000</td>\n",
              "      <td>1232</td>\n",
              "    </tr>\n",
              "    <tr>\n",
              "      <th>3</th>\n",
              "      <td>1003</td>\n",
              "      <td>2123</td>\n",
              "      <td>5464</td>\n",
              "      <td>1123</td>\n",
              "      <td>2464</td>\n",
              "    </tr>\n",
              "    <tr>\n",
              "      <th>4</th>\n",
              "      <td>1005</td>\n",
              "      <td>NaN</td>\n",
              "      <td>NaN</td>\n",
              "      <td>1250</td>\n",
              "      <td>2646</td>\n",
              "    </tr>\n",
              "    <tr>\n",
              "      <th>5</th>\n",
              "      <td>1004</td>\n",
              "      <td>NaN</td>\n",
              "      <td>NaN</td>\n",
              "      <td>5050</td>\n",
              "      <td>6544</td>\n",
              "    </tr>\n",
              "  </tbody>\n",
              "</table>\n",
              "</div>"
            ],
            "text/plain": [
              "   cust_id     Q1    Q2     Q3    Q4\n",
              "0     1000  15000  1532    NaN   NaN\n",
              "1     1001   1250  4646    NaN   NaN\n",
              "2     1002  15020  6545  25000  1232\n",
              "3     1003   2123  5464   1123  2464\n",
              "4     1005    NaN   NaN   1250  2646\n",
              "5     1004    NaN   NaN   5050  6544"
            ]
          },
          "metadata": {},
          "execution_count": 442
        }
      ]
    },
    {
      "cell_type": "code",
      "metadata": {
        "colab": {
          "base_uri": "https://localhost:8080/",
          "height": 112
        },
        "id": "RASJsI6FRFos",
        "outputId": "5643e7b8-4a07-4c74-cae9-accba13cb65b"
      },
      "source": [
        "pd.merge(Table1,Table2, how= 'inner',on = 'cust_id')"
      ],
      "execution_count": null,
      "outputs": [
        {
          "output_type": "execute_result",
          "data": {
            "text/html": [
              "<div>\n",
              "<style scoped>\n",
              "    .dataframe tbody tr th:only-of-type {\n",
              "        vertical-align: middle;\n",
              "    }\n",
              "\n",
              "    .dataframe tbody tr th {\n",
              "        vertical-align: top;\n",
              "    }\n",
              "\n",
              "    .dataframe thead th {\n",
              "        text-align: right;\n",
              "    }\n",
              "</style>\n",
              "<table border=\"1\" class=\"dataframe\">\n",
              "  <thead>\n",
              "    <tr style=\"text-align: right;\">\n",
              "      <th></th>\n",
              "      <th>cust_id</th>\n",
              "      <th>Q1</th>\n",
              "      <th>Q2</th>\n",
              "      <th>Q3</th>\n",
              "      <th>Q4</th>\n",
              "    </tr>\n",
              "  </thead>\n",
              "  <tbody>\n",
              "    <tr>\n",
              "      <th>0</th>\n",
              "      <td>1002</td>\n",
              "      <td>15020</td>\n",
              "      <td>6545</td>\n",
              "      <td>25000</td>\n",
              "      <td>1232</td>\n",
              "    </tr>\n",
              "    <tr>\n",
              "      <th>1</th>\n",
              "      <td>1003</td>\n",
              "      <td>2123</td>\n",
              "      <td>5464</td>\n",
              "      <td>1123</td>\n",
              "      <td>2464</td>\n",
              "    </tr>\n",
              "  </tbody>\n",
              "</table>\n",
              "</div>"
            ],
            "text/plain": [
              "   cust_id     Q1    Q2     Q3    Q4\n",
              "0     1002  15020  6545  25000  1232\n",
              "1     1003   2123  5464   1123  2464"
            ]
          },
          "metadata": {},
          "execution_count": 443
        }
      ]
    },
    {
      "cell_type": "code",
      "metadata": {
        "id": "N0cdGg9MRF3G"
      },
      "source": [
        "Table1 = pd.DataFrame({'Q1': ['15000','1250','15020','2123'],\n",
        "                       'Q2':['1532','4646','6545','5464']},\n",
        "                       index = ['0', '1', '2', '3'])\n",
        "Table2 = pd.DataFrame({'Q3': ['25000','1250','5050','1123'],\n",
        "                       'Q4':['1232','2646','6544','2464']},\n",
        "                      index = ['0', '2', '3', '4'])"
      ],
      "execution_count": null,
      "outputs": []
    },
    {
      "cell_type": "code",
      "metadata": {
        "colab": {
          "base_uri": "https://localhost:8080/",
          "height": 175
        },
        "id": "-HjH9bLZRGEr",
        "outputId": "115f4b1e-93fd-4a81-b8f6-dbe27975d2e9"
      },
      "source": [
        "Table1.join(Table2)       # Left Join"
      ],
      "execution_count": null,
      "outputs": [
        {
          "output_type": "execute_result",
          "data": {
            "text/html": [
              "<div>\n",
              "<style scoped>\n",
              "    .dataframe tbody tr th:only-of-type {\n",
              "        vertical-align: middle;\n",
              "    }\n",
              "\n",
              "    .dataframe tbody tr th {\n",
              "        vertical-align: top;\n",
              "    }\n",
              "\n",
              "    .dataframe thead th {\n",
              "        text-align: right;\n",
              "    }\n",
              "</style>\n",
              "<table border=\"1\" class=\"dataframe\">\n",
              "  <thead>\n",
              "    <tr style=\"text-align: right;\">\n",
              "      <th></th>\n",
              "      <th>Q1</th>\n",
              "      <th>Q2</th>\n",
              "      <th>Q3</th>\n",
              "      <th>Q4</th>\n",
              "    </tr>\n",
              "  </thead>\n",
              "  <tbody>\n",
              "    <tr>\n",
              "      <th>0</th>\n",
              "      <td>15000</td>\n",
              "      <td>1532</td>\n",
              "      <td>25000</td>\n",
              "      <td>1232</td>\n",
              "    </tr>\n",
              "    <tr>\n",
              "      <th>1</th>\n",
              "      <td>1250</td>\n",
              "      <td>4646</td>\n",
              "      <td>NaN</td>\n",
              "      <td>NaN</td>\n",
              "    </tr>\n",
              "    <tr>\n",
              "      <th>2</th>\n",
              "      <td>15020</td>\n",
              "      <td>6545</td>\n",
              "      <td>1250</td>\n",
              "      <td>2646</td>\n",
              "    </tr>\n",
              "    <tr>\n",
              "      <th>3</th>\n",
              "      <td>2123</td>\n",
              "      <td>5464</td>\n",
              "      <td>5050</td>\n",
              "      <td>6544</td>\n",
              "    </tr>\n",
              "  </tbody>\n",
              "</table>\n",
              "</div>"
            ],
            "text/plain": [
              "      Q1    Q2     Q3    Q4\n",
              "0  15000  1532  25000  1232\n",
              "1   1250  4646    NaN   NaN\n",
              "2  15020  6545   1250  2646\n",
              "3   2123  5464   5050  6544"
            ]
          },
          "metadata": {},
          "execution_count": 453
        }
      ]
    },
    {
      "cell_type": "code",
      "metadata": {
        "colab": {
          "base_uri": "https://localhost:8080/",
          "height": 206
        },
        "id": "fhhR6ed1RGSq",
        "outputId": "f56dccc3-7ccb-41f9-8840-fa0ff838e728"
      },
      "source": [
        "Table1.join(Table2,how = 'outer')"
      ],
      "execution_count": null,
      "outputs": [
        {
          "output_type": "execute_result",
          "data": {
            "text/html": [
              "<div>\n",
              "<style scoped>\n",
              "    .dataframe tbody tr th:only-of-type {\n",
              "        vertical-align: middle;\n",
              "    }\n",
              "\n",
              "    .dataframe tbody tr th {\n",
              "        vertical-align: top;\n",
              "    }\n",
              "\n",
              "    .dataframe thead th {\n",
              "        text-align: right;\n",
              "    }\n",
              "</style>\n",
              "<table border=\"1\" class=\"dataframe\">\n",
              "  <thead>\n",
              "    <tr style=\"text-align: right;\">\n",
              "      <th></th>\n",
              "      <th>Q1</th>\n",
              "      <th>Q2</th>\n",
              "      <th>Q3</th>\n",
              "      <th>Q4</th>\n",
              "    </tr>\n",
              "  </thead>\n",
              "  <tbody>\n",
              "    <tr>\n",
              "      <th>0</th>\n",
              "      <td>15000</td>\n",
              "      <td>1532</td>\n",
              "      <td>25000</td>\n",
              "      <td>1232</td>\n",
              "    </tr>\n",
              "    <tr>\n",
              "      <th>1</th>\n",
              "      <td>1250</td>\n",
              "      <td>4646</td>\n",
              "      <td>NaN</td>\n",
              "      <td>NaN</td>\n",
              "    </tr>\n",
              "    <tr>\n",
              "      <th>2</th>\n",
              "      <td>15020</td>\n",
              "      <td>6545</td>\n",
              "      <td>1250</td>\n",
              "      <td>2646</td>\n",
              "    </tr>\n",
              "    <tr>\n",
              "      <th>3</th>\n",
              "      <td>2123</td>\n",
              "      <td>5464</td>\n",
              "      <td>5050</td>\n",
              "      <td>6544</td>\n",
              "    </tr>\n",
              "    <tr>\n",
              "      <th>4</th>\n",
              "      <td>NaN</td>\n",
              "      <td>NaN</td>\n",
              "      <td>1123</td>\n",
              "      <td>2464</td>\n",
              "    </tr>\n",
              "  </tbody>\n",
              "</table>\n",
              "</div>"
            ],
            "text/plain": [
              "      Q1    Q2     Q3    Q4\n",
              "0  15000  1532  25000  1232\n",
              "1   1250  4646    NaN   NaN\n",
              "2  15020  6545   1250  2646\n",
              "3   2123  5464   5050  6544\n",
              "4    NaN   NaN   1123  2464"
            ]
          },
          "metadata": {},
          "execution_count": 454
        }
      ]
    },
    {
      "cell_type": "code",
      "metadata": {
        "colab": {
          "base_uri": "https://localhost:8080/",
          "height": 143
        },
        "id": "harKA1ZLRGfU",
        "outputId": "d27d334f-10d6-4bb6-ec1c-1cb7336f9d7e"
      },
      "source": [
        "Table1.join(Table2,how = 'inner')"
      ],
      "execution_count": null,
      "outputs": [
        {
          "output_type": "execute_result",
          "data": {
            "text/html": [
              "<div>\n",
              "<style scoped>\n",
              "    .dataframe tbody tr th:only-of-type {\n",
              "        vertical-align: middle;\n",
              "    }\n",
              "\n",
              "    .dataframe tbody tr th {\n",
              "        vertical-align: top;\n",
              "    }\n",
              "\n",
              "    .dataframe thead th {\n",
              "        text-align: right;\n",
              "    }\n",
              "</style>\n",
              "<table border=\"1\" class=\"dataframe\">\n",
              "  <thead>\n",
              "    <tr style=\"text-align: right;\">\n",
              "      <th></th>\n",
              "      <th>Q1</th>\n",
              "      <th>Q2</th>\n",
              "      <th>Q3</th>\n",
              "      <th>Q4</th>\n",
              "    </tr>\n",
              "  </thead>\n",
              "  <tbody>\n",
              "    <tr>\n",
              "      <th>0</th>\n",
              "      <td>15000</td>\n",
              "      <td>1532</td>\n",
              "      <td>25000</td>\n",
              "      <td>1232</td>\n",
              "    </tr>\n",
              "    <tr>\n",
              "      <th>2</th>\n",
              "      <td>15020</td>\n",
              "      <td>6545</td>\n",
              "      <td>1250</td>\n",
              "      <td>2646</td>\n",
              "    </tr>\n",
              "    <tr>\n",
              "      <th>3</th>\n",
              "      <td>2123</td>\n",
              "      <td>5464</td>\n",
              "      <td>5050</td>\n",
              "      <td>6544</td>\n",
              "    </tr>\n",
              "  </tbody>\n",
              "</table>\n",
              "</div>"
            ],
            "text/plain": [
              "      Q1    Q2     Q3    Q4\n",
              "0  15000  1532  25000  1232\n",
              "2  15020  6545   1250  2646\n",
              "3   2123  5464   5050  6544"
            ]
          },
          "metadata": {},
          "execution_count": 455
        }
      ]
    },
    {
      "cell_type": "code",
      "metadata": {
        "id": "rDWCBjPrRGtk"
      },
      "source": [
        ""
      ],
      "execution_count": null,
      "outputs": []
    },
    {
      "cell_type": "code",
      "metadata": {
        "id": "kzGgZ99cH_GS"
      },
      "source": [
        ""
      ],
      "execution_count": null,
      "outputs": []
    },
    {
      "cell_type": "code",
      "metadata": {
        "id": "XewEJNcnH_Of"
      },
      "source": [
        ""
      ],
      "execution_count": null,
      "outputs": []
    },
    {
      "cell_type": "code",
      "metadata": {
        "id": "_Omn0TJjIAc7"
      },
      "source": [
        ""
      ],
      "execution_count": null,
      "outputs": []
    }
  ]
}